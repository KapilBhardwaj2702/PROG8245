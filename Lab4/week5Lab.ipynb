{
 "cells": [
  {
   "attachments": {},
   "cell_type": "markdown",
   "metadata": {},
   "source": [
    "# **Tidying**"
   ]
  },
  {
   "attachments": {},
   "cell_type": "markdown",
   "metadata": {},
   "source": [
    "Part of the data engineering process is data cleaning and tidying. What is done in those two processes, is trying to make the data more readable, and complete. This makes much easier to analyze, visualize, and train the data.\n"
   ]
  },
  {
   "attachments": {},
   "cell_type": "markdown",
   "metadata": {},
   "source": [
    "## **Data Tidying**\n",
    "\n",
    "Making the data more organized, and readable is the result of applying data tidying. \n",
    "\n",
    "In this section two main pandas functions are used in data tidying those are `melt` and `pivot_table`."
   ]
  },
  {
   "attachments": {},
   "cell_type": "markdown",
   "metadata": {},
   "source": [
    "Let's start by taking a look at the below dataframe, which represents the income ranges based on religion. This is part of the PEW research, which is famous in the US for conducting pollings and surveys on citizens.\n",
    "\n",
    "When the following are satisfied:\n",
    "\n",
    "\n",
    "1. Each variable forms a column\n",
    "2. Each observation forms a row\n",
    "3. Each type of observational unit forms a table\n",
    "\n",
    "We can then say that our dataset is *tidy*.\n",
    "\n",
    "First we need to import pandas to read csv datasets."
   ]
  },
  {
   "cell_type": "code",
   "execution_count": null,
   "metadata": {},
   "outputs": [],
   "source": [
    "!pip install pandas\n",
    "import pandas as pd\n",
    "import numpy as np\n"
   ]
  },
  {
   "attachments": {},
   "cell_type": "markdown",
   "metadata": {},
   "source": [
    "### **PEW Research Dataset**"
   ]
  },
  {
   "attachments": {},
   "cell_type": "markdown",
   "metadata": {},
   "source": [
    "1. Start by Importing the dataset into a pandas dataframe."
   ]
  },
  {
   "cell_type": "code",
   "execution_count": null,
   "metadata": {},
   "outputs": [],
   "source": [
    "df_pew = pd.read_csv('./data/pew-raw.csv')\n"
   ]
  },
  {
   "attachments": {},
   "cell_type": "markdown",
   "metadata": {},
   "source": [
    "2. Observe the dataset using the `loc`, `iloc`, `head`, or `tail` approaches"
   ]
  },
  {
   "cell_type": "code",
   "execution_count": null,
   "metadata": {},
   "outputs": [
    {
     "data": {
      "application/vnd.microsoft.datawrangler.viewer.v0+json": {
       "columns": [
        {
         "name": "index",
         "rawType": "int64",
         "type": "integer"
        },
        {
         "name": "religion",
         "rawType": "object",
         "type": "string"
        },
        {
         "name": "<$10k",
         "rawType": "int64",
         "type": "integer"
        }
       ],
       "ref": "2a1b9bc6-846d-4dea-9655-0fa858a91bb0",
       "rows": [
        [
         "0",
         "Agnostic",
         "27"
        ],
        [
         "1",
         "Atheist",
         "12"
        ],
        [
         "2",
         "Buddhist",
         "27"
        ],
        [
         "3",
         "Catholic",
         "418"
        ],
        [
         "4",
         "Dont know/refused",
         "15"
        ],
        [
         "5",
         "Evangelical Prot ",
         "575"
        ],
        [
         "6",
         "Hindu ",
         "1"
        ],
        [
         "7",
         "Historically Black Prot ",
         "228"
        ],
        [
         "8",
         "Jehovahs Witness ",
         "20"
        ],
        [
         "9",
         "Jewish ",
         "19"
        ]
       ],
       "shape": {
        "columns": 2,
        "rows": 10
       }
      },
      "text/html": [
       "<div>\n",
       "<style scoped>\n",
       "    .dataframe tbody tr th:only-of-type {\n",
       "        vertical-align: middle;\n",
       "    }\n",
       "\n",
       "    .dataframe tbody tr th {\n",
       "        vertical-align: top;\n",
       "    }\n",
       "\n",
       "    .dataframe thead th {\n",
       "        text-align: right;\n",
       "    }\n",
       "</style>\n",
       "<table border=\"1\" class=\"dataframe\">\n",
       "  <thead>\n",
       "    <tr style=\"text-align: right;\">\n",
       "      <th></th>\n",
       "      <th>religion</th>\n",
       "      <th>&lt;$10k</th>\n",
       "    </tr>\n",
       "  </thead>\n",
       "  <tbody>\n",
       "    <tr>\n",
       "      <th>0</th>\n",
       "      <td>Agnostic</td>\n",
       "      <td>27</td>\n",
       "    </tr>\n",
       "    <tr>\n",
       "      <th>1</th>\n",
       "      <td>Atheist</td>\n",
       "      <td>12</td>\n",
       "    </tr>\n",
       "    <tr>\n",
       "      <th>2</th>\n",
       "      <td>Buddhist</td>\n",
       "      <td>27</td>\n",
       "    </tr>\n",
       "    <tr>\n",
       "      <th>3</th>\n",
       "      <td>Catholic</td>\n",
       "      <td>418</td>\n",
       "    </tr>\n",
       "    <tr>\n",
       "      <th>4</th>\n",
       "      <td>Dont know/refused</td>\n",
       "      <td>15</td>\n",
       "    </tr>\n",
       "    <tr>\n",
       "      <th>5</th>\n",
       "      <td>Evangelical Prot</td>\n",
       "      <td>575</td>\n",
       "    </tr>\n",
       "    <tr>\n",
       "      <th>6</th>\n",
       "      <td>Hindu</td>\n",
       "      <td>1</td>\n",
       "    </tr>\n",
       "    <tr>\n",
       "      <th>7</th>\n",
       "      <td>Historically Black Prot</td>\n",
       "      <td>228</td>\n",
       "    </tr>\n",
       "    <tr>\n",
       "      <th>8</th>\n",
       "      <td>Jehovahs Witness</td>\n",
       "      <td>20</td>\n",
       "    </tr>\n",
       "    <tr>\n",
       "      <th>9</th>\n",
       "      <td>Jewish</td>\n",
       "      <td>19</td>\n",
       "    </tr>\n",
       "  </tbody>\n",
       "</table>\n",
       "</div>"
      ],
      "text/plain": [
       "                   religion  <$10k\n",
       "0                  Agnostic     27\n",
       "1                   Atheist     12\n",
       "2                  Buddhist     27\n",
       "3                  Catholic    418\n",
       "4         Dont know/refused     15\n",
       "5         Evangelical Prot     575\n",
       "6                    Hindu       1\n",
       "7  Historically Black Prot     228\n",
       "8         Jehovahs Witness      20\n",
       "9                   Jewish      19"
      ]
     },
     "execution_count": 113,
     "metadata": {},
     "output_type": "execute_result"
    }
   ],
   "source": [
    "# Display the 'religion' and '<$10k' columns using loc\n",
    "df_pew.columns = df_pew.columns.str.strip().str.lower()\n",
    "df_pew.loc[:, ['religion', '<$10k']]"
   ]
  },
  {
   "cell_type": "code",
   "execution_count": null,
   "metadata": {},
   "outputs": [
    {
     "data": {
      "application/vnd.microsoft.datawrangler.viewer.v0+json": {
       "columns": [
        {
         "name": "index",
         "rawType": "int64",
         "type": "integer"
        },
        {
         "name": "religion",
         "rawType": "object",
         "type": "string"
        },
        {
         "name": "<$10k",
         "rawType": "int64",
         "type": "integer"
        },
        {
         "name": "$10-20k",
         "rawType": "int64",
         "type": "integer"
        },
        {
         "name": "$20-30k",
         "rawType": "int64",
         "type": "integer"
        },
        {
         "name": "$30-40k",
         "rawType": "int64",
         "type": "integer"
        },
        {
         "name": "$40-50k",
         "rawType": "int64",
         "type": "integer"
        },
        {
         "name": "$50-75k",
         "rawType": "int64",
         "type": "integer"
        }
       ],
       "ref": "808a53fb-9ce3-4bf8-9e58-23c735e78de5",
       "rows": [
        [
         "0",
         "Agnostic",
         "27",
         "34",
         "60",
         "81",
         "76",
         "137"
        ],
        [
         "1",
         "Atheist",
         "12",
         "27",
         "37",
         "52",
         "35",
         "70"
        ],
        [
         "2",
         "Buddhist",
         "27",
         "21",
         "30",
         "34",
         "33",
         "58"
        ],
        [
         "3",
         "Catholic",
         "418",
         "617",
         "732",
         "670",
         "638",
         "1116"
        ],
        [
         "4",
         "Dont know/refused",
         "15",
         "14",
         "15",
         "11",
         "10",
         "35"
        ]
       ],
       "shape": {
        "columns": 7,
        "rows": 5
       }
      },
      "text/html": [
       "<div>\n",
       "<style scoped>\n",
       "    .dataframe tbody tr th:only-of-type {\n",
       "        vertical-align: middle;\n",
       "    }\n",
       "\n",
       "    .dataframe tbody tr th {\n",
       "        vertical-align: top;\n",
       "    }\n",
       "\n",
       "    .dataframe thead th {\n",
       "        text-align: right;\n",
       "    }\n",
       "</style>\n",
       "<table border=\"1\" class=\"dataframe\">\n",
       "  <thead>\n",
       "    <tr style=\"text-align: right;\">\n",
       "      <th></th>\n",
       "      <th>religion</th>\n",
       "      <th>&lt;$10k</th>\n",
       "      <th>$10-20k</th>\n",
       "      <th>$20-30k</th>\n",
       "      <th>$30-40k</th>\n",
       "      <th>$40-50k</th>\n",
       "      <th>$50-75k</th>\n",
       "    </tr>\n",
       "  </thead>\n",
       "  <tbody>\n",
       "    <tr>\n",
       "      <th>0</th>\n",
       "      <td>Agnostic</td>\n",
       "      <td>27</td>\n",
       "      <td>34</td>\n",
       "      <td>60</td>\n",
       "      <td>81</td>\n",
       "      <td>76</td>\n",
       "      <td>137</td>\n",
       "    </tr>\n",
       "    <tr>\n",
       "      <th>1</th>\n",
       "      <td>Atheist</td>\n",
       "      <td>12</td>\n",
       "      <td>27</td>\n",
       "      <td>37</td>\n",
       "      <td>52</td>\n",
       "      <td>35</td>\n",
       "      <td>70</td>\n",
       "    </tr>\n",
       "    <tr>\n",
       "      <th>2</th>\n",
       "      <td>Buddhist</td>\n",
       "      <td>27</td>\n",
       "      <td>21</td>\n",
       "      <td>30</td>\n",
       "      <td>34</td>\n",
       "      <td>33</td>\n",
       "      <td>58</td>\n",
       "    </tr>\n",
       "    <tr>\n",
       "      <th>3</th>\n",
       "      <td>Catholic</td>\n",
       "      <td>418</td>\n",
       "      <td>617</td>\n",
       "      <td>732</td>\n",
       "      <td>670</td>\n",
       "      <td>638</td>\n",
       "      <td>1116</td>\n",
       "    </tr>\n",
       "    <tr>\n",
       "      <th>4</th>\n",
       "      <td>Dont know/refused</td>\n",
       "      <td>15</td>\n",
       "      <td>14</td>\n",
       "      <td>15</td>\n",
       "      <td>11</td>\n",
       "      <td>10</td>\n",
       "      <td>35</td>\n",
       "    </tr>\n",
       "  </tbody>\n",
       "</table>\n",
       "</div>"
      ],
      "text/plain": [
       "            religion  <$10k  $10-20k  $20-30k  $30-40k  $40-50k  $50-75k\n",
       "0           Agnostic     27       34       60       81       76      137\n",
       "1            Atheist     12       27       37       52       35       70\n",
       "2           Buddhist     27       21       30       34       33       58\n",
       "3           Catholic    418      617      732      670      638     1116\n",
       "4  Dont know/refused     15       14       15       11       10       35"
      ]
     },
     "execution_count": 114,
     "metadata": {},
     "output_type": "execute_result"
    }
   ],
   "source": [
    "# Display the first 5 rows of the dataframe\n",
    "df_pew.head()\n"
   ]
  },
  {
   "cell_type": "code",
   "execution_count": null,
   "metadata": {},
   "outputs": [
    {
     "data": {
      "application/vnd.microsoft.datawrangler.viewer.v0+json": {
       "columns": [
        {
         "name": "index",
         "rawType": "int64",
         "type": "integer"
        },
        {
         "name": "religion",
         "rawType": "object",
         "type": "string"
        },
        {
         "name": "<$10k",
         "rawType": "int64",
         "type": "integer"
        },
        {
         "name": "$10-20k",
         "rawType": "int64",
         "type": "integer"
        },
        {
         "name": "$20-30k",
         "rawType": "int64",
         "type": "integer"
        },
        {
         "name": "$30-40k",
         "rawType": "int64",
         "type": "integer"
        },
        {
         "name": "$40-50k",
         "rawType": "int64",
         "type": "integer"
        },
        {
         "name": "$50-75k",
         "rawType": "int64",
         "type": "integer"
        }
       ],
       "ref": "d1614df9-a6e6-4ffc-96e5-78ed178231d8",
       "rows": [
        [
         "5",
         "Evangelical Prot ",
         "575",
         "869",
         "1064",
         "982",
         "881",
         "1486"
        ],
        [
         "6",
         "Hindu ",
         "1",
         "9",
         "7",
         "9",
         "11",
         "34"
        ],
        [
         "7",
         "Historically Black Prot ",
         "228",
         "244",
         "236",
         "238",
         "197",
         "223"
        ],
        [
         "8",
         "Jehovahs Witness ",
         "20",
         "27",
         "24",
         "24",
         "21",
         "30"
        ],
        [
         "9",
         "Jewish ",
         "19",
         "19",
         "25",
         "25",
         "30",
         "95"
        ]
       ],
       "shape": {
        "columns": 7,
        "rows": 5
       }
      },
      "text/html": [
       "<div>\n",
       "<style scoped>\n",
       "    .dataframe tbody tr th:only-of-type {\n",
       "        vertical-align: middle;\n",
       "    }\n",
       "\n",
       "    .dataframe tbody tr th {\n",
       "        vertical-align: top;\n",
       "    }\n",
       "\n",
       "    .dataframe thead th {\n",
       "        text-align: right;\n",
       "    }\n",
       "</style>\n",
       "<table border=\"1\" class=\"dataframe\">\n",
       "  <thead>\n",
       "    <tr style=\"text-align: right;\">\n",
       "      <th></th>\n",
       "      <th>religion</th>\n",
       "      <th>&lt;$10k</th>\n",
       "      <th>$10-20k</th>\n",
       "      <th>$20-30k</th>\n",
       "      <th>$30-40k</th>\n",
       "      <th>$40-50k</th>\n",
       "      <th>$50-75k</th>\n",
       "    </tr>\n",
       "  </thead>\n",
       "  <tbody>\n",
       "    <tr>\n",
       "      <th>5</th>\n",
       "      <td>Evangelical Prot</td>\n",
       "      <td>575</td>\n",
       "      <td>869</td>\n",
       "      <td>1064</td>\n",
       "      <td>982</td>\n",
       "      <td>881</td>\n",
       "      <td>1486</td>\n",
       "    </tr>\n",
       "    <tr>\n",
       "      <th>6</th>\n",
       "      <td>Hindu</td>\n",
       "      <td>1</td>\n",
       "      <td>9</td>\n",
       "      <td>7</td>\n",
       "      <td>9</td>\n",
       "      <td>11</td>\n",
       "      <td>34</td>\n",
       "    </tr>\n",
       "    <tr>\n",
       "      <th>7</th>\n",
       "      <td>Historically Black Prot</td>\n",
       "      <td>228</td>\n",
       "      <td>244</td>\n",
       "      <td>236</td>\n",
       "      <td>238</td>\n",
       "      <td>197</td>\n",
       "      <td>223</td>\n",
       "    </tr>\n",
       "    <tr>\n",
       "      <th>8</th>\n",
       "      <td>Jehovahs Witness</td>\n",
       "      <td>20</td>\n",
       "      <td>27</td>\n",
       "      <td>24</td>\n",
       "      <td>24</td>\n",
       "      <td>21</td>\n",
       "      <td>30</td>\n",
       "    </tr>\n",
       "    <tr>\n",
       "      <th>9</th>\n",
       "      <td>Jewish</td>\n",
       "      <td>19</td>\n",
       "      <td>19</td>\n",
       "      <td>25</td>\n",
       "      <td>25</td>\n",
       "      <td>30</td>\n",
       "      <td>95</td>\n",
       "    </tr>\n",
       "  </tbody>\n",
       "</table>\n",
       "</div>"
      ],
      "text/plain": [
       "                   religion  <$10k  $10-20k  $20-30k  $30-40k  $40-50k  $50-75k\n",
       "5         Evangelical Prot     575      869     1064      982      881     1486\n",
       "6                    Hindu       1        9        7        9       11       34\n",
       "7  Historically Black Prot     228      244      236      238      197      223\n",
       "8         Jehovahs Witness      20       27       24       24       21       30\n",
       "9                   Jewish      19       19       25       25       30       95"
      ]
     },
     "execution_count": 115,
     "metadata": {},
     "output_type": "execute_result"
    }
   ],
   "source": [
    "# Display the last 5 rows of the dataframe\n",
    "df_pew.tail()\n"
   ]
  },
  {
   "cell_type": "code",
   "execution_count": null,
   "metadata": {},
   "outputs": [
    {
     "data": {
      "application/vnd.microsoft.datawrangler.viewer.v0+json": {
       "columns": [
        {
         "name": "index",
         "rawType": "int64",
         "type": "integer"
        },
        {
         "name": "religion",
         "rawType": "object",
         "type": "string"
        },
        {
         "name": "<$10k",
         "rawType": "int64",
         "type": "integer"
        },
        {
         "name": "$10-20k",
         "rawType": "int64",
         "type": "integer"
        },
        {
         "name": "$20-30k",
         "rawType": "int64",
         "type": "integer"
        },
        {
         "name": "$30-40k",
         "rawType": "int64",
         "type": "integer"
        },
        {
         "name": "$40-50k",
         "rawType": "int64",
         "type": "integer"
        },
        {
         "name": "$50-75k",
         "rawType": "int64",
         "type": "integer"
        }
       ],
       "ref": "c83edb55-188c-488b-b71d-83e857a8c526",
       "rows": [
        [
         "0",
         "Agnostic",
         "27",
         "34",
         "60",
         "81",
         "76",
         "137"
        ],
        [
         "1",
         "Atheist",
         "12",
         "27",
         "37",
         "52",
         "35",
         "70"
        ],
        [
         "2",
         "Buddhist",
         "27",
         "21",
         "30",
         "34",
         "33",
         "58"
        ]
       ],
       "shape": {
        "columns": 7,
        "rows": 3
       }
      },
      "text/html": [
       "<div>\n",
       "<style scoped>\n",
       "    .dataframe tbody tr th:only-of-type {\n",
       "        vertical-align: middle;\n",
       "    }\n",
       "\n",
       "    .dataframe tbody tr th {\n",
       "        vertical-align: top;\n",
       "    }\n",
       "\n",
       "    .dataframe thead th {\n",
       "        text-align: right;\n",
       "    }\n",
       "</style>\n",
       "<table border=\"1\" class=\"dataframe\">\n",
       "  <thead>\n",
       "    <tr style=\"text-align: right;\">\n",
       "      <th></th>\n",
       "      <th>religion</th>\n",
       "      <th>&lt;$10k</th>\n",
       "      <th>$10-20k</th>\n",
       "      <th>$20-30k</th>\n",
       "      <th>$30-40k</th>\n",
       "      <th>$40-50k</th>\n",
       "      <th>$50-75k</th>\n",
       "    </tr>\n",
       "  </thead>\n",
       "  <tbody>\n",
       "    <tr>\n",
       "      <th>0</th>\n",
       "      <td>Agnostic</td>\n",
       "      <td>27</td>\n",
       "      <td>34</td>\n",
       "      <td>60</td>\n",
       "      <td>81</td>\n",
       "      <td>76</td>\n",
       "      <td>137</td>\n",
       "    </tr>\n",
       "    <tr>\n",
       "      <th>1</th>\n",
       "      <td>Atheist</td>\n",
       "      <td>12</td>\n",
       "      <td>27</td>\n",
       "      <td>37</td>\n",
       "      <td>52</td>\n",
       "      <td>35</td>\n",
       "      <td>70</td>\n",
       "    </tr>\n",
       "    <tr>\n",
       "      <th>2</th>\n",
       "      <td>Buddhist</td>\n",
       "      <td>27</td>\n",
       "      <td>21</td>\n",
       "      <td>30</td>\n",
       "      <td>34</td>\n",
       "      <td>33</td>\n",
       "      <td>58</td>\n",
       "    </tr>\n",
       "  </tbody>\n",
       "</table>\n",
       "</div>"
      ],
      "text/plain": [
       "   religion  <$10k  $10-20k  $20-30k  $30-40k  $40-50k  $50-75k\n",
       "0  Agnostic     27       34       60       81       76      137\n",
       "1   Atheist     12       27       37       52       35       70\n",
       "2  Buddhist     27       21       30       34       33       58"
      ]
     },
     "execution_count": 116,
     "metadata": {},
     "output_type": "execute_result"
    }
   ],
   "source": [
    "# Display the first 3 rows using iloc\n",
    "df_pew.iloc[:3]"
   ]
  },
  {
   "attachments": {},
   "cell_type": "markdown",
   "metadata": {},
   "source": [
    "***What does not seem right in the above dataframe?***"
   ]
  },
  {
   "attachments": {},
   "cell_type": "markdown",
   "metadata": {},
   "source": [
    "3. Try to make the column headers represent a variable not a value. For that, use the `melt` function."
   ]
  },
  {
   "cell_type": "code",
   "execution_count": null,
   "metadata": {},
   "outputs": [
    {
     "data": {
      "application/vnd.microsoft.datawrangler.viewer.v0+json": {
       "columns": [
        {
         "name": "index",
         "rawType": "int64",
         "type": "integer"
        },
        {
         "name": "religion",
         "rawType": "object",
         "type": "string"
        },
        {
         "name": "income",
         "rawType": "object",
         "type": "string"
        },
        {
         "name": "count",
         "rawType": "int64",
         "type": "integer"
        }
       ],
       "ref": "785c85cc-92c4-426f-8a15-a69a4b694264",
       "rows": [
        [
         "0",
         "Agnostic",
         "<$10k",
         "27"
        ],
        [
         "1",
         "Atheist",
         "<$10k",
         "12"
        ],
        [
         "2",
         "Buddhist",
         "<$10k",
         "27"
        ],
        [
         "3",
         "Catholic",
         "<$10k",
         "418"
        ],
        [
         "4",
         "Dont know/refused",
         "<$10k",
         "15"
        ]
       ],
       "shape": {
        "columns": 3,
        "rows": 5
       }
      },
      "text/html": [
       "<div>\n",
       "<style scoped>\n",
       "    .dataframe tbody tr th:only-of-type {\n",
       "        vertical-align: middle;\n",
       "    }\n",
       "\n",
       "    .dataframe tbody tr th {\n",
       "        vertical-align: top;\n",
       "    }\n",
       "\n",
       "    .dataframe thead th {\n",
       "        text-align: right;\n",
       "    }\n",
       "</style>\n",
       "<table border=\"1\" class=\"dataframe\">\n",
       "  <thead>\n",
       "    <tr style=\"text-align: right;\">\n",
       "      <th></th>\n",
       "      <th>religion</th>\n",
       "      <th>income</th>\n",
       "      <th>count</th>\n",
       "    </tr>\n",
       "  </thead>\n",
       "  <tbody>\n",
       "    <tr>\n",
       "      <th>0</th>\n",
       "      <td>Agnostic</td>\n",
       "      <td>&lt;$10k</td>\n",
       "      <td>27</td>\n",
       "    </tr>\n",
       "    <tr>\n",
       "      <th>1</th>\n",
       "      <td>Atheist</td>\n",
       "      <td>&lt;$10k</td>\n",
       "      <td>12</td>\n",
       "    </tr>\n",
       "    <tr>\n",
       "      <th>2</th>\n",
       "      <td>Buddhist</td>\n",
       "      <td>&lt;$10k</td>\n",
       "      <td>27</td>\n",
       "    </tr>\n",
       "    <tr>\n",
       "      <th>3</th>\n",
       "      <td>Catholic</td>\n",
       "      <td>&lt;$10k</td>\n",
       "      <td>418</td>\n",
       "    </tr>\n",
       "    <tr>\n",
       "      <th>4</th>\n",
       "      <td>Dont know/refused</td>\n",
       "      <td>&lt;$10k</td>\n",
       "      <td>15</td>\n",
       "    </tr>\n",
       "  </tbody>\n",
       "</table>\n",
       "</div>"
      ],
      "text/plain": [
       "            religion income  count\n",
       "0           Agnostic  <$10k     27\n",
       "1            Atheist  <$10k     12\n",
       "2           Buddhist  <$10k     27\n",
       "3           Catholic  <$10k    418\n",
       "4  Dont know/refused  <$10k     15"
      ]
     },
     "execution_count": 117,
     "metadata": {},
     "output_type": "execute_result"
    }
   ],
   "source": [
    "df_pew_melted = pd.melt(df_pew, id_vars=['religion'], var_name='income', value_name='count')\n",
    "df_pew_melted.head()"
   ]
  },
  {
   "cell_type": "markdown",
   "metadata": {},
   "source": [
    "## Using Replace function"
   ]
  },
  {
   "cell_type": "code",
   "execution_count": null,
   "metadata": {},
   "outputs": [
    {
     "data": {
      "application/vnd.microsoft.datawrangler.viewer.v0+json": {
       "columns": [
        {
         "name": "index",
         "rawType": "int64",
         "type": "integer"
        },
        {
         "name": "religion",
         "rawType": "object",
         "type": "string"
        },
        {
         "name": "income",
         "rawType": "object",
         "type": "string"
        },
        {
         "name": "count",
         "rawType": "int64",
         "type": "integer"
        }
       ],
       "ref": "66695d1b-d1d8-4975-91b7-5c530a953b30",
       "rows": [
        [
         "0",
         "Agnostic",
         "Less than $10k",
         "27"
        ],
        [
         "1",
         "Atheist",
         "Less than $10k",
         "12"
        ],
        [
         "2",
         "Buddhist",
         "Less than $10k",
         "27"
        ],
        [
         "3",
         "Catholic",
         "Less than $10k",
         "418"
        ],
        [
         "4",
         "Dont know/refused",
         "Less than $10k",
         "15"
        ]
       ],
       "shape": {
        "columns": 3,
        "rows": 5
       }
      },
      "text/html": [
       "<div>\n",
       "<style scoped>\n",
       "    .dataframe tbody tr th:only-of-type {\n",
       "        vertical-align: middle;\n",
       "    }\n",
       "\n",
       "    .dataframe tbody tr th {\n",
       "        vertical-align: top;\n",
       "    }\n",
       "\n",
       "    .dataframe thead th {\n",
       "        text-align: right;\n",
       "    }\n",
       "</style>\n",
       "<table border=\"1\" class=\"dataframe\">\n",
       "  <thead>\n",
       "    <tr style=\"text-align: right;\">\n",
       "      <th></th>\n",
       "      <th>religion</th>\n",
       "      <th>income</th>\n",
       "      <th>count</th>\n",
       "    </tr>\n",
       "  </thead>\n",
       "  <tbody>\n",
       "    <tr>\n",
       "      <th>0</th>\n",
       "      <td>Agnostic</td>\n",
       "      <td>Less than $10k</td>\n",
       "      <td>27</td>\n",
       "    </tr>\n",
       "    <tr>\n",
       "      <th>1</th>\n",
       "      <td>Atheist</td>\n",
       "      <td>Less than $10k</td>\n",
       "      <td>12</td>\n",
       "    </tr>\n",
       "    <tr>\n",
       "      <th>2</th>\n",
       "      <td>Buddhist</td>\n",
       "      <td>Less than $10k</td>\n",
       "      <td>27</td>\n",
       "    </tr>\n",
       "    <tr>\n",
       "      <th>3</th>\n",
       "      <td>Catholic</td>\n",
       "      <td>Less than $10k</td>\n",
       "      <td>418</td>\n",
       "    </tr>\n",
       "    <tr>\n",
       "      <th>4</th>\n",
       "      <td>Dont know/refused</td>\n",
       "      <td>Less than $10k</td>\n",
       "      <td>15</td>\n",
       "    </tr>\n",
       "  </tbody>\n",
       "</table>\n",
       "</div>"
      ],
      "text/plain": [
       "            religion          income  count\n",
       "0           Agnostic  Less than $10k     27\n",
       "1            Atheist  Less than $10k     12\n",
       "2           Buddhist  Less than $10k     27\n",
       "3           Catholic  Less than $10k    418\n",
       "4  Dont know/refused  Less than $10k     15"
      ]
     },
     "execution_count": 118,
     "metadata": {},
     "output_type": "execute_result"
    }
   ],
   "source": [
    "# Replace the income range values in the 'income' column for better readability\n",
    "df_pew_melted['income'] = df_pew_melted['income'].replace({\n",
    "    '<$10k': 'Less than $10k',\n",
    "    '$10-20k': '$10k-$20k',\n",
    "    '$20-30k': '$20k-$30k',\n",
    "    '$30-40k': '$30k-$40k',\n",
    "    '$40-50k': '$40k-$50k',\n",
    "    '$50-75k': '$50k-$75k'\n",
    "})\n",
    "df_pew_melted.head()"
   ]
  },
  {
   "cell_type": "code",
   "execution_count": null,
   "metadata": {},
   "outputs": [
    {
     "data": {
      "application/vnd.microsoft.datawrangler.viewer.v0+json": {
       "columns": [
        {
         "name": "index",
         "rawType": "int64",
         "type": "integer"
        },
        {
         "name": "religion",
         "rawType": "object",
         "type": "string"
        },
        {
         "name": "income",
         "rawType": "object",
         "type": "string"
        },
        {
         "name": "count",
         "rawType": "int64",
         "type": "integer"
        }
       ],
       "ref": "ea1e72b9-c843-4f33-82e8-8bb039e5cf0d",
       "rows": [
        [
         "0",
         "Agnostic",
         "0-10",
         "27"
        ],
        [
         "1",
         "Atheist",
         "0-10",
         "12"
        ],
        [
         "2",
         "Buddhist",
         "0-10",
         "27"
        ],
        [
         "3",
         "Catholic",
         "0-10",
         "418"
        ],
        [
         "4",
         "Dont know/refused",
         "0-10",
         "15"
        ]
       ],
       "shape": {
        "columns": 3,
        "rows": 5
       }
      },
      "text/html": [
       "<div>\n",
       "<style scoped>\n",
       "    .dataframe tbody tr th:only-of-type {\n",
       "        vertical-align: middle;\n",
       "    }\n",
       "\n",
       "    .dataframe tbody tr th {\n",
       "        vertical-align: top;\n",
       "    }\n",
       "\n",
       "    .dataframe thead th {\n",
       "        text-align: right;\n",
       "    }\n",
       "</style>\n",
       "<table border=\"1\" class=\"dataframe\">\n",
       "  <thead>\n",
       "    <tr style=\"text-align: right;\">\n",
       "      <th></th>\n",
       "      <th>religion</th>\n",
       "      <th>income</th>\n",
       "      <th>count</th>\n",
       "    </tr>\n",
       "  </thead>\n",
       "  <tbody>\n",
       "    <tr>\n",
       "      <th>0</th>\n",
       "      <td>Agnostic</td>\n",
       "      <td>0-10</td>\n",
       "      <td>27</td>\n",
       "    </tr>\n",
       "    <tr>\n",
       "      <th>1</th>\n",
       "      <td>Atheist</td>\n",
       "      <td>0-10</td>\n",
       "      <td>12</td>\n",
       "    </tr>\n",
       "    <tr>\n",
       "      <th>2</th>\n",
       "      <td>Buddhist</td>\n",
       "      <td>0-10</td>\n",
       "      <td>27</td>\n",
       "    </tr>\n",
       "    <tr>\n",
       "      <th>3</th>\n",
       "      <td>Catholic</td>\n",
       "      <td>0-10</td>\n",
       "      <td>418</td>\n",
       "    </tr>\n",
       "    <tr>\n",
       "      <th>4</th>\n",
       "      <td>Dont know/refused</td>\n",
       "      <td>0-10</td>\n",
       "      <td>15</td>\n",
       "    </tr>\n",
       "  </tbody>\n",
       "</table>\n",
       "</div>"
      ],
      "text/plain": [
       "            religion income  count\n",
       "0           Agnostic   0-10     27\n",
       "1            Atheist   0-10     12\n",
       "2           Buddhist   0-10     27\n",
       "3           Catholic   0-10    418\n",
       "4  Dont know/refused   0-10     15"
      ]
     },
     "execution_count": 119,
     "metadata": {},
     "output_type": "execute_result"
    }
   ],
   "source": [
    "# Replace '$' and 'k' with blank and 'Less than 10k' with '0-10' in the 'income' column\n",
    "df_pew_melted['income'] = df_pew_melted['income'].str.replace('$', '', regex=False)\n",
    "df_pew_melted['income'] = df_pew_melted['income'].str.replace('k', '', regex=False)\n",
    "df_pew_melted['income'] = df_pew_melted['income'].replace({'Less than 10': '0-10'})\n",
    "df_pew_melted['income'] = df_pew_melted['income'].str.replace('$', '', regex=False)\n",
    "df_pew_melted['income'] = df_pew_melted['income'].replace({'Less than 10k': '0-10k'})\n",
    "df_pew_melted.head()"
   ]
  },
  {
   "cell_type": "code",
   "execution_count": null,
   "metadata": {},
   "outputs": [
    {
     "data": {
      "application/vnd.microsoft.datawrangler.viewer.v0+json": {
       "columns": [
        {
         "name": "index",
         "rawType": "int64",
         "type": "integer"
        },
        {
         "name": "religion",
         "rawType": "object",
         "type": "string"
        },
        {
         "name": "income",
         "rawType": "object",
         "type": "string"
        },
        {
         "name": "count",
         "rawType": "int64",
         "type": "integer"
        },
        {
         "name": "income_min",
         "rawType": "object",
         "type": "string"
        },
        {
         "name": "income_max",
         "rawType": "object",
         "type": "string"
        }
       ],
       "ref": "97450288-70aa-475d-a5bf-e15fb7f258c3",
       "rows": [
        [
         "0",
         "Agnostic",
         "0-10",
         "27",
         "0",
         "10"
        ],
        [
         "1",
         "Atheist",
         "0-10",
         "12",
         "0",
         "10"
        ],
        [
         "2",
         "Buddhist",
         "0-10",
         "27",
         "0",
         "10"
        ],
        [
         "3",
         "Catholic",
         "0-10",
         "418",
         "0",
         "10"
        ],
        [
         "4",
         "Dont know/refused",
         "0-10",
         "15",
         "0",
         "10"
        ]
       ],
       "shape": {
        "columns": 5,
        "rows": 5
       }
      },
      "text/html": [
       "<div>\n",
       "<style scoped>\n",
       "    .dataframe tbody tr th:only-of-type {\n",
       "        vertical-align: middle;\n",
       "    }\n",
       "\n",
       "    .dataframe tbody tr th {\n",
       "        vertical-align: top;\n",
       "    }\n",
       "\n",
       "    .dataframe thead th {\n",
       "        text-align: right;\n",
       "    }\n",
       "</style>\n",
       "<table border=\"1\" class=\"dataframe\">\n",
       "  <thead>\n",
       "    <tr style=\"text-align: right;\">\n",
       "      <th></th>\n",
       "      <th>religion</th>\n",
       "      <th>income</th>\n",
       "      <th>count</th>\n",
       "      <th>income_min</th>\n",
       "      <th>income_max</th>\n",
       "    </tr>\n",
       "  </thead>\n",
       "  <tbody>\n",
       "    <tr>\n",
       "      <th>0</th>\n",
       "      <td>Agnostic</td>\n",
       "      <td>0-10</td>\n",
       "      <td>27</td>\n",
       "      <td>0</td>\n",
       "      <td>10</td>\n",
       "    </tr>\n",
       "    <tr>\n",
       "      <th>1</th>\n",
       "      <td>Atheist</td>\n",
       "      <td>0-10</td>\n",
       "      <td>12</td>\n",
       "      <td>0</td>\n",
       "      <td>10</td>\n",
       "    </tr>\n",
       "    <tr>\n",
       "      <th>2</th>\n",
       "      <td>Buddhist</td>\n",
       "      <td>0-10</td>\n",
       "      <td>27</td>\n",
       "      <td>0</td>\n",
       "      <td>10</td>\n",
       "    </tr>\n",
       "    <tr>\n",
       "      <th>3</th>\n",
       "      <td>Catholic</td>\n",
       "      <td>0-10</td>\n",
       "      <td>418</td>\n",
       "      <td>0</td>\n",
       "      <td>10</td>\n",
       "    </tr>\n",
       "    <tr>\n",
       "      <th>4</th>\n",
       "      <td>Dont know/refused</td>\n",
       "      <td>0-10</td>\n",
       "      <td>15</td>\n",
       "      <td>0</td>\n",
       "      <td>10</td>\n",
       "    </tr>\n",
       "  </tbody>\n",
       "</table>\n",
       "</div>"
      ],
      "text/plain": [
       "            religion income  count income_min income_max\n",
       "0           Agnostic   0-10     27          0         10\n",
       "1            Atheist   0-10     12          0         10\n",
       "2           Buddhist   0-10     27          0         10\n",
       "3           Catholic   0-10    418          0         10\n",
       "4  Dont know/refused   0-10     15          0         10"
      ]
     },
     "execution_count": 120,
     "metadata": {},
     "output_type": "execute_result"
    }
   ],
   "source": [
    "# Split the 'income' column into 'income_min' and 'income_max'\n",
    "df_pew_melted[['income_min', 'income_max']] = df_pew_melted['income'].str.split('-', expand=True)\n",
    "\n",
    "# Display the updated dataframe\n",
    "df_pew_melted.head()"
   ]
  },
  {
   "attachments": {},
   "cell_type": "markdown",
   "metadata": {},
   "source": [
    "### **Billboard Dataset**"
   ]
  },
  {
   "attachments": {},
   "cell_type": "markdown",
   "metadata": {},
   "source": [
    "This dataset outlines data about the top hit songs on the Billboard list and the week from entrance that it was in the billboard with the ranking."
   ]
  },
  {
   "attachments": {},
   "cell_type": "markdown",
   "metadata": {},
   "source": [
    "1. Read the dataset and store it in a pandas dataframe. Note that the usual utf-8 encoding does not work on this dataset. The reason behind this is that there might be characters that are not supported by `utf-8`.\n",
    "\n",
    "The suggestion is to use for this dataset `unicode_escape` encoding. (converts all non-ASCII characters into their \\uXXXX representations)"
   ]
  },
  {
   "attachments": {},
   "cell_type": "markdown",
   "metadata": {},
   "source": [
    "2. Observe the first few rows of the dataset."
   ]
  },
  {
   "attachments": {},
   "cell_type": "markdown",
   "metadata": {},
   "source": [
    "***What is wrong with the above dataset?***"
   ]
  },
  {
   "attachments": {},
   "cell_type": "markdown",
   "metadata": {},
   "source": [
    "3. Let's, again, use the `melt` function to fix the general structure of the dataframe."
   ]
  },
  {
   "attachments": {},
   "cell_type": "markdown",
   "metadata": {},
   "source": [
    "If we inspect the current dataframe. We find that it is structured in a better way than before. \n",
    "\n",
    "However, the ***Week*** column looks a bit ugly!\n",
    "\n",
    "4. Let's try to place only the week number in that column without the extras surronding it."
   ]
  },
  {
   "attachments": {},
   "cell_type": "markdown",
   "metadata": {},
   "source": [
    "5. Now let's inspect the ***Week*** column in the dataframe."
   ]
  },
  {
   "attachments": {},
   "cell_type": "markdown",
   "metadata": {},
   "source": [
    "Next, let's try to find the date at which the song ranked the number that is shown per row.\n",
    "\n",
    "6. To do that let's first think of the equation that is going to get us the relevant date at which the song ranked the *rth*.\n",
    "\n"
   ]
  },
  {
   "attachments": {},
   "cell_type": "markdown",
   "metadata": {},
   "source": [
    "*Timedeltas are absolute differences in times, expressed in difference units (e.g. days, hours, minutes, seconds). This method converts an argument from a recognized timedelta format / value into a Timedelta type.*\n"
   ]
  },
  {
   "attachments": {},
   "cell_type": "markdown",
   "metadata": {},
   "source": [
    "***What is the problem with the calculation above?***"
   ]
  },
  {
   "attachments": {},
   "cell_type": "markdown",
   "metadata": {},
   "source": [
    "7. Let's only keep necessary columns"
   ]
  },
  {
   "attachments": {},
   "cell_type": "markdown",
   "metadata": {},
   "source": [
    "8. How to rename your columns?"
   ]
  },
  {
   "attachments": {},
   "cell_type": "markdown",
   "metadata": {},
   "source": [
    "Display the dataframe"
   ]
  },
  {
   "attachments": {},
   "cell_type": "markdown",
   "metadata": {},
   "source": [
    "In the above dataframe, there are some *NaN* values. What are we going to do? <br/>\n",
    "9. Apply quick data cleaning and then observe the dataset"
   ]
  },
  {
   "attachments": {},
   "cell_type": "markdown",
   "metadata": {},
   "source": [
    "## **Data Cleaning**\n",
    "\n",
    "Data cleaning involves removing unwanted characters, imputing, or dropping missing values.\n",
    "\n",
    "The decision is based on the dataset you have, and the information you can extract from the other columns.\n",
    "\n",
    "\n",
    "Examples of data cleaning include cleaning:\n",
    "\n",
    "1.   **Missing Data**\n",
    "2.   **Irregular Data** (Outliers)\n",
    "3.   **Unnecessary Data** — Repetitive Data, Duplicates and more\n",
    "4.   **Inconsistent Data** — Capitalization, Addresses and more\n",
    "\n",
    "\n",
    "\n",
    "\n",
    "\n",
    "\n"
   ]
  },
  {
   "attachments": {},
   "cell_type": "markdown",
   "metadata": {},
   "source": [
    "### **Cars Data Set**"
   ]
  },
  {
   "attachments": {},
   "cell_type": "markdown",
   "metadata": {},
   "source": [
    "Start by reading the dataset related to car models: ./CSVs/cars.csv"
   ]
  },
  {
   "cell_type": "markdown",
   "metadata": {},
   "source": [
    "### Displaying the Entire DataFrame\n",
    "\n",
    "***The dataset was loaded and displayed with adjusted settings to show all columns and improve readability. This allows a complete view of the data for initial inspection and verification.***"
   ]
  },
  {
   "cell_type": "code",
   "execution_count": null,
   "metadata": {},
   "outputs": [
    {
     "name": "stdout",
     "output_type": "stream",
     "text": [
      "                           Car     MPG Cylinders Displacement Horsepower  Weight Acceleration Model  Origin\n",
      "0                       STRING  DOUBLE       INT       DOUBLE     DOUBLE  DOUBLE       DOUBLE   INT     CAT\n",
      "1    Chevrolet Chevelle Malibu     NaN         8        307.0      130.0   3504.         12.0    70      US\n",
      "2            Buick Skylark 320    15.0         8        350.0        NaN   3693.         11.5    70      US\n",
      "3           Plymouth Satellite     NaN         8        318.0      150.0   3436.         11.0    70      US\n",
      "4                AMC Rebel SST    16.0         8          NaN      150.0     NaN         12.0    70      US\n",
      "..                         ...     ...       ...          ...        ...     ...          ...   ...     ...\n",
      "402            Ford Mustang GL    27.0         4        140.0      86.00   2790.         15.6    82      US\n",
      "403          Volkswagen Pickup    44.0         4        97.00      52.00   2130.         24.6    82  Europe\n",
      "404              Dodge Rampage    32.0         4        135.0      84.00   2295.         11.6    82      US\n",
      "405                Ford Ranger    28.0         4        120.0      79.00   2625.         18.6    82      US\n",
      "406                 Chevy S-10    31.0         4        119.0      82.00   2720.         19.4    82      US\n",
      "\n",
      "[407 rows x 9 columns]\n"
     ]
    }
   ],
   "source": [
    "from io import StringIO\n",
    "import pandas as pd\n",
    "\n",
    "# Reading the file from Ddf_cars = pd.read_csv('./CSVs/cars.csv', delimiter=';')\n",
    "df_cars = pd.read_csv('./data/cars.csv', delimiter=';')\n",
    "\n",
    "# Optional: Adjust display settings for better formatting\n",
    "pd.set_option('display.max_columns', None)\n",
    "pd.set_option('display.width', 1000)\n",
    "# Display the DataFrame\n",
    "print(df_cars)\n"
   ]
  },
  {
   "attachments": {},
   "cell_type": "markdown",
   "metadata": {},
   "source": [
    "First Row seems to be the datatype, we need to remove it"
   ]
  },
  {
   "cell_type": "markdown",
   "metadata": {},
   "source": [
    "### Removing Non-Data Header Row\n",
    "\n",
    "***The first row, which contained datatype information rather than actual data, was removed to clean the dataset. The index was reset to maintain proper row numbering.***"
   ]
  },
  {
   "cell_type": "code",
   "execution_count": null,
   "metadata": {},
   "outputs": [
    {
     "data": {
      "application/vnd.microsoft.datawrangler.viewer.v0+json": {
       "columns": [
        {
         "name": "index",
         "rawType": "int64",
         "type": "integer"
        },
        {
         "name": "Car",
         "rawType": "object",
         "type": "string"
        },
        {
         "name": "MPG",
         "rawType": "float64",
         "type": "float"
        },
        {
         "name": "Cylinders",
         "rawType": "object",
         "type": "string"
        },
        {
         "name": "Displacement",
         "rawType": "float64",
         "type": "float"
        },
        {
         "name": "Horsepower",
         "rawType": "float64",
         "type": "float"
        },
        {
         "name": "Weight",
         "rawType": "float64",
         "type": "float"
        },
        {
         "name": "Acceleration",
         "rawType": "object",
         "type": "string"
        },
        {
         "name": "Model",
         "rawType": "object",
         "type": "string"
        },
        {
         "name": "Origin",
         "rawType": "object",
         "type": "string"
        }
       ],
       "ref": "2e3f1045-d44b-4938-9415-a556818ef20c",
       "rows": [
        [
         "0",
         "AMC Rebel SST",
         "16.0",
         "8",
         "194.50987654320988",
         "150.0",
         "2978.293827160494",
         "12.0",
         "70",
         "US"
        ],
        [
         "1",
         "Ford Torino",
         "17.0",
         "8",
         "302.0",
         "140.0",
         "3449.0",
         "10.5",
         "70",
         "US"
        ],
        [
         "2",
         "Ford Galaxie 500",
         "0.0",
         "8",
         "429.0",
         "103.14356435643565",
         "4341.0",
         "10.0",
         "70",
         "US"
        ],
        [
         "3",
         "Chevrolet Impala",
         "14.0",
         "8",
         "454.0",
         "220.0",
         "4354.0",
         "9.0",
         "70",
         "US"
        ],
        [
         "4",
         "Plymouth Fury iii",
         "14.0",
         "8",
         "440.0",
         "215.0",
         "4312.0",
         "8.5",
         "70",
         "US"
        ]
       ],
       "shape": {
        "columns": 9,
        "rows": 5
       }
      },
      "text/html": [
       "<div>\n",
       "<style scoped>\n",
       "    .dataframe tbody tr th:only-of-type {\n",
       "        vertical-align: middle;\n",
       "    }\n",
       "\n",
       "    .dataframe tbody tr th {\n",
       "        vertical-align: top;\n",
       "    }\n",
       "\n",
       "    .dataframe thead th {\n",
       "        text-align: right;\n",
       "    }\n",
       "</style>\n",
       "<table border=\"1\" class=\"dataframe\">\n",
       "  <thead>\n",
       "    <tr style=\"text-align: right;\">\n",
       "      <th></th>\n",
       "      <th>Car</th>\n",
       "      <th>MPG</th>\n",
       "      <th>Cylinders</th>\n",
       "      <th>Displacement</th>\n",
       "      <th>Horsepower</th>\n",
       "      <th>Weight</th>\n",
       "      <th>Acceleration</th>\n",
       "      <th>Model</th>\n",
       "      <th>Origin</th>\n",
       "    </tr>\n",
       "  </thead>\n",
       "  <tbody>\n",
       "    <tr>\n",
       "      <th>0</th>\n",
       "      <td>AMC Rebel SST</td>\n",
       "      <td>16.0</td>\n",
       "      <td>8</td>\n",
       "      <td>194.509877</td>\n",
       "      <td>150.000000</td>\n",
       "      <td>2978.293827</td>\n",
       "      <td>12.0</td>\n",
       "      <td>70</td>\n",
       "      <td>US</td>\n",
       "    </tr>\n",
       "    <tr>\n",
       "      <th>1</th>\n",
       "      <td>Ford Torino</td>\n",
       "      <td>17.0</td>\n",
       "      <td>8</td>\n",
       "      <td>302.000000</td>\n",
       "      <td>140.000000</td>\n",
       "      <td>3449.000000</td>\n",
       "      <td>10.5</td>\n",
       "      <td>70</td>\n",
       "      <td>US</td>\n",
       "    </tr>\n",
       "    <tr>\n",
       "      <th>2</th>\n",
       "      <td>Ford Galaxie 500</td>\n",
       "      <td>0.0</td>\n",
       "      <td>8</td>\n",
       "      <td>429.000000</td>\n",
       "      <td>103.143564</td>\n",
       "      <td>4341.000000</td>\n",
       "      <td>10.0</td>\n",
       "      <td>70</td>\n",
       "      <td>US</td>\n",
       "    </tr>\n",
       "    <tr>\n",
       "      <th>3</th>\n",
       "      <td>Chevrolet Impala</td>\n",
       "      <td>14.0</td>\n",
       "      <td>8</td>\n",
       "      <td>454.000000</td>\n",
       "      <td>220.000000</td>\n",
       "      <td>4354.000000</td>\n",
       "      <td>9.0</td>\n",
       "      <td>70</td>\n",
       "      <td>US</td>\n",
       "    </tr>\n",
       "    <tr>\n",
       "      <th>4</th>\n",
       "      <td>Plymouth Fury iii</td>\n",
       "      <td>14.0</td>\n",
       "      <td>8</td>\n",
       "      <td>440.000000</td>\n",
       "      <td>215.000000</td>\n",
       "      <td>4312.000000</td>\n",
       "      <td>8.5</td>\n",
       "      <td>70</td>\n",
       "      <td>US</td>\n",
       "    </tr>\n",
       "  </tbody>\n",
       "</table>\n",
       "</div>"
      ],
      "text/plain": [
       "                 Car   MPG Cylinders  Displacement  Horsepower       Weight Acceleration Model Origin\n",
       "0      AMC Rebel SST  16.0         8    194.509877  150.000000  2978.293827         12.0    70     US\n",
       "1        Ford Torino  17.0         8    302.000000  140.000000  3449.000000         10.5    70     US\n",
       "2   Ford Galaxie 500   0.0         8    429.000000  103.143564  4341.000000         10.0    70     US\n",
       "3   Chevrolet Impala  14.0         8    454.000000  220.000000  4354.000000          9.0    70     US\n",
       "4  Plymouth Fury iii  14.0         8    440.000000  215.000000  4312.000000          8.5    70     US"
      ]
     },
     "execution_count": 122,
     "metadata": {},
     "output_type": "execute_result"
    }
   ],
   "source": [
    "# Remove the first row which contains the datatype information\n",
    "df_cars = df_cars.iloc[1:].reset_index(drop=True)\n",
    "df_cars.head()"
   ]
  },
  {
   "attachments": {},
   "cell_type": "markdown",
   "metadata": {},
   "source": [
    "Let's observe the columns with null values.  Either by using the `isnull().sum()` function "
   ]
  },
  {
   "cell_type": "markdown",
   "metadata": {},
   "source": [
    "### Checking for Missing Values\n",
    "\n",
    "***Counted the number of missing (null) values in each column to identify which features require data cleaning or imputation.***"
   ]
  },
  {
   "cell_type": "code",
   "execution_count": null,
   "metadata": {},
   "outputs": [
    {
     "data": {
      "application/vnd.microsoft.datawrangler.viewer.v0+json": {
       "columns": [
        {
         "name": "index",
         "rawType": "object",
         "type": "string"
        },
        {
         "name": "0",
         "rawType": "int64",
         "type": "integer"
        }
       ],
       "ref": "46e702b3-0b8f-47e7-8407-2d6fff8e4a9d",
       "rows": [
        [
         "Car",
         "0"
        ],
        [
         "MPG",
         "0"
        ],
        [
         "Cylinders",
         "0"
        ],
        [
         "Displacement",
         "0"
        ],
        [
         "Horsepower",
         "0"
        ],
        [
         "Weight",
         "0"
        ],
        [
         "Acceleration",
         "0"
        ],
        [
         "Model",
         "0"
        ],
        [
         "Origin",
         "0"
        ]
       ],
       "shape": {
        "columns": 1,
        "rows": 9
       }
      },
      "text/plain": [
       "Car             0\n",
       "MPG             0\n",
       "Cylinders       0\n",
       "Displacement    0\n",
       "Horsepower      0\n",
       "Weight          0\n",
       "Acceleration    0\n",
       "Model           0\n",
       "Origin          0\n",
       "dtype: int64"
      ]
     },
     "execution_count": 123,
     "metadata": {},
     "output_type": "execute_result"
    }
   ],
   "source": [
    "df_cars.isnull().sum()"
   ]
  },
  {
   "attachments": {},
   "cell_type": "markdown",
   "metadata": {},
   "source": [
    "There aren'at many missing values. Let's take a glimpse at the percentage of the missing values:\n",
    "\n",
    "**HINT:** We'll need `Numpy` for the below task."
   ]
  },
  {
   "cell_type": "markdown",
   "metadata": {},
   "source": [
    "### Calculating Percentage of Missing Values\n",
    "\n",
    "***Computed the percentage of missing data in each column to better understand the extent of incomplete records and prioritize data cleaning efforts.***"
   ]
  },
  {
   "cell_type": "code",
   "execution_count": null,
   "metadata": {},
   "outputs": [
    {
     "name": "stdout",
     "output_type": "stream",
     "text": [
      "Car             0.0\n",
      "MPG             0.0\n",
      "Cylinders       0.0\n",
      "Displacement    0.0\n",
      "Horsepower      0.0\n",
      "Weight          0.0\n",
      "Acceleration    0.0\n",
      "Model           0.0\n",
      "Origin          0.0\n",
      "dtype: float64\n"
     ]
    }
   ],
   "source": [
    "import numpy as np\n",
    "\n",
    "# Calculate the percentage of missing values for each column using numpy\n",
    "\n",
    "missing_percent = df_cars.isnull().sum() / len(df_cars) * 100\n",
    "print(missing_percent)"
   ]
  },
  {
   "attachments": {},
   "cell_type": "markdown",
   "metadata": {},
   "source": [
    "Around *0.19%* of the values are missing, which isn't a lot. Therefore, we might go with the option of dropping all the rows with null values."
   ]
  },
  {
   "attachments": {},
   "cell_type": "markdown",
   "metadata": {},
   "source": [
    "Lets also check dropping the columns"
   ]
  },
  {
   "attachments": {},
   "cell_type": "markdown",
   "metadata": {},
   "source": [
    "Let's observe how many columns we lost"
   ]
  },
  {
   "cell_type": "markdown",
   "metadata": {},
   "source": [
    "### Handling Missing Data by Dropping\n",
    "\n",
    "- Rows containing any missing values were dropped to create a clean dataset without incomplete records.\n",
    "- Columns with any missing values were also dropped to analyze the impact on the dataset’s structure.\n",
    "- The number of rows and columns before and after dropping were compared to assess data loss.\n"
   ]
  },
  {
   "cell_type": "code",
   "execution_count": null,
   "metadata": {},
   "outputs": [
    {
     "name": "stdout",
     "output_type": "stream",
     "text": [
      "Columns before dropping: 9\n",
      "Columns after dropping: 9\n",
      "Dropped columns: set()\n",
      "Rows before dropping: 403\n",
      "Rows after dropping: 403\n"
     ]
    },
    {
     "data": {
      "application/vnd.microsoft.datawrangler.viewer.v0+json": {
       "columns": [
        {
         "name": "index",
         "rawType": "int64",
         "type": "integer"
        },
        {
         "name": "Car",
         "rawType": "object",
         "type": "string"
        },
        {
         "name": "MPG",
         "rawType": "float64",
         "type": "float"
        },
        {
         "name": "Cylinders",
         "rawType": "object",
         "type": "string"
        },
        {
         "name": "Displacement",
         "rawType": "float64",
         "type": "float"
        },
        {
         "name": "Horsepower",
         "rawType": "float64",
         "type": "float"
        },
        {
         "name": "Weight",
         "rawType": "float64",
         "type": "float"
        },
        {
         "name": "Acceleration",
         "rawType": "object",
         "type": "string"
        },
        {
         "name": "Model",
         "rawType": "object",
         "type": "string"
        },
        {
         "name": "Origin",
         "rawType": "object",
         "type": "string"
        }
       ],
       "ref": "2d8a944b-c092-4e89-91a4-d81334034099",
       "rows": [
        [
         "0",
         "AMC Rebel SST",
         "16.0",
         "8",
         "194.50987654320988",
         "150.0",
         "2978.293827160494",
         "12.0",
         "70",
         "US"
        ],
        [
         "1",
         "Ford Torino",
         "17.0",
         "8",
         "302.0",
         "140.0",
         "3449.0",
         "10.5",
         "70",
         "US"
        ],
        [
         "2",
         "Ford Galaxie 500",
         "0.0",
         "8",
         "429.0",
         "103.14356435643565",
         "4341.0",
         "10.0",
         "70",
         "US"
        ],
        [
         "3",
         "Chevrolet Impala",
         "14.0",
         "8",
         "454.0",
         "220.0",
         "4354.0",
         "9.0",
         "70",
         "US"
        ],
        [
         "4",
         "Plymouth Fury iii",
         "14.0",
         "8",
         "440.0",
         "215.0",
         "4312.0",
         "8.5",
         "70",
         "US"
        ]
       ],
       "shape": {
        "columns": 9,
        "rows": 5
       }
      },
      "text/html": [
       "<div>\n",
       "<style scoped>\n",
       "    .dataframe tbody tr th:only-of-type {\n",
       "        vertical-align: middle;\n",
       "    }\n",
       "\n",
       "    .dataframe tbody tr th {\n",
       "        vertical-align: top;\n",
       "    }\n",
       "\n",
       "    .dataframe thead th {\n",
       "        text-align: right;\n",
       "    }\n",
       "</style>\n",
       "<table border=\"1\" class=\"dataframe\">\n",
       "  <thead>\n",
       "    <tr style=\"text-align: right;\">\n",
       "      <th></th>\n",
       "      <th>Car</th>\n",
       "      <th>MPG</th>\n",
       "      <th>Cylinders</th>\n",
       "      <th>Displacement</th>\n",
       "      <th>Horsepower</th>\n",
       "      <th>Weight</th>\n",
       "      <th>Acceleration</th>\n",
       "      <th>Model</th>\n",
       "      <th>Origin</th>\n",
       "    </tr>\n",
       "  </thead>\n",
       "  <tbody>\n",
       "    <tr>\n",
       "      <th>0</th>\n",
       "      <td>AMC Rebel SST</td>\n",
       "      <td>16.0</td>\n",
       "      <td>8</td>\n",
       "      <td>194.509877</td>\n",
       "      <td>150.000000</td>\n",
       "      <td>2978.293827</td>\n",
       "      <td>12.0</td>\n",
       "      <td>70</td>\n",
       "      <td>US</td>\n",
       "    </tr>\n",
       "    <tr>\n",
       "      <th>1</th>\n",
       "      <td>Ford Torino</td>\n",
       "      <td>17.0</td>\n",
       "      <td>8</td>\n",
       "      <td>302.000000</td>\n",
       "      <td>140.000000</td>\n",
       "      <td>3449.000000</td>\n",
       "      <td>10.5</td>\n",
       "      <td>70</td>\n",
       "      <td>US</td>\n",
       "    </tr>\n",
       "    <tr>\n",
       "      <th>2</th>\n",
       "      <td>Ford Galaxie 500</td>\n",
       "      <td>0.0</td>\n",
       "      <td>8</td>\n",
       "      <td>429.000000</td>\n",
       "      <td>103.143564</td>\n",
       "      <td>4341.000000</td>\n",
       "      <td>10.0</td>\n",
       "      <td>70</td>\n",
       "      <td>US</td>\n",
       "    </tr>\n",
       "    <tr>\n",
       "      <th>3</th>\n",
       "      <td>Chevrolet Impala</td>\n",
       "      <td>14.0</td>\n",
       "      <td>8</td>\n",
       "      <td>454.000000</td>\n",
       "      <td>220.000000</td>\n",
       "      <td>4354.000000</td>\n",
       "      <td>9.0</td>\n",
       "      <td>70</td>\n",
       "      <td>US</td>\n",
       "    </tr>\n",
       "    <tr>\n",
       "      <th>4</th>\n",
       "      <td>Plymouth Fury iii</td>\n",
       "      <td>14.0</td>\n",
       "      <td>8</td>\n",
       "      <td>440.000000</td>\n",
       "      <td>215.000000</td>\n",
       "      <td>4312.000000</td>\n",
       "      <td>8.5</td>\n",
       "      <td>70</td>\n",
       "      <td>US</td>\n",
       "    </tr>\n",
       "  </tbody>\n",
       "</table>\n",
       "</div>"
      ],
      "text/plain": [
       "                 Car   MPG Cylinders  Displacement  Horsepower       Weight Acceleration Model Origin\n",
       "0      AMC Rebel SST  16.0         8    194.509877  150.000000  2978.293827         12.0    70     US\n",
       "1        Ford Torino  17.0         8    302.000000  140.000000  3449.000000         10.5    70     US\n",
       "2   Ford Galaxie 500   0.0         8    429.000000  103.143564  4341.000000         10.0    70     US\n",
       "3   Chevrolet Impala  14.0         8    454.000000  220.000000  4354.000000          9.0    70     US\n",
       "4  Plymouth Fury iii  14.0         8    440.000000  215.000000  4312.000000          8.5    70     US"
      ]
     },
     "execution_count": 125,
     "metadata": {},
     "output_type": "execute_result"
    }
   ],
   "source": [
    "# Drop all rows with any missing values\n",
    "df_cars_dropped = df_cars.dropna().reset_index(drop=True)\n",
    "# Drop columns with any missing values\n",
    "df_cars_col_dropped = df_cars.dropna(axis=1)\n",
    "print(f\"Columns before dropping: {df_cars.shape[1]}\")\n",
    "print(f\"Columns after dropping: {df_cars_col_dropped.shape[1]}\")\n",
    "print(\"Dropped columns:\", set(df_cars.columns) - set(df_cars_col_dropped.columns))\n",
    "df_cars_col_dropped.head()\n",
    "# Display the shape of the new DataFrame to see how many rows remain\n",
    "print(f\"Rows before dropping: {len(df_cars)}\")\n",
    "print(f\"Rows after dropping: {len(df_cars_dropped)}\")\n",
    "df_cars_dropped.head()"
   ]
  },
  {
   "attachments": {},
   "cell_type": "markdown",
   "metadata": {},
   "source": [
    "### **Cars Dataset - Filling in missing values automatically**\n",
    "\n",
    "Another option is to try and fill in the missing values through imputations."
   ]
  },
  {
   "cell_type": "markdown",
   "metadata": {},
   "source": [
    "***This code handles missing values in selected numeric columns of the dataset (`MPG`, `Displacement`, `Horsepower`, `Weight`) by using mean imputation. It first converts these columns to numeric types, then applies `SimpleImputer` from `sklearn` with the strategy set to replace missing values with the mean of each column. Finally, it updates the DataFrame with the imputed values and displays the result.***"
   ]
  },
  {
   "cell_type": "code",
   "execution_count": null,
   "metadata": {},
   "outputs": [
    {
     "data": {
      "application/vnd.microsoft.datawrangler.viewer.v0+json": {
       "columns": [
        {
         "name": "index",
         "rawType": "int64",
         "type": "integer"
        },
        {
         "name": "Car",
         "rawType": "object",
         "type": "string"
        },
        {
         "name": "MPG",
         "rawType": "float64",
         "type": "float"
        },
        {
         "name": "Cylinders",
         "rawType": "object",
         "type": "string"
        },
        {
         "name": "Displacement",
         "rawType": "float64",
         "type": "float"
        },
        {
         "name": "Horsepower",
         "rawType": "float64",
         "type": "float"
        },
        {
         "name": "Weight",
         "rawType": "float64",
         "type": "float"
        },
        {
         "name": "Acceleration",
         "rawType": "object",
         "type": "string"
        },
        {
         "name": "Model",
         "rawType": "object",
         "type": "string"
        },
        {
         "name": "Origin",
         "rawType": "object",
         "type": "string"
        }
       ],
       "ref": "67ba3da3-0891-41bb-8e2d-598fa2b0f081",
       "rows": [
        [
         "0",
         "AMC Rebel SST",
         "16.0",
         "8",
         "194.50987654320988",
         "150.0",
         "2978.293827160494",
         "12.0",
         "70",
         "US"
        ],
        [
         "1",
         "Ford Torino",
         "17.0",
         "8",
         "302.0",
         "140.0",
         "3449.0",
         "10.5",
         "70",
         "US"
        ],
        [
         "2",
         "Ford Galaxie 500",
         "0.0",
         "8",
         "429.0",
         "103.14356435643565",
         "4341.0",
         "10.0",
         "70",
         "US"
        ],
        [
         "3",
         "Chevrolet Impala",
         "14.0",
         "8",
         "454.0",
         "220.0",
         "4354.0",
         "9.0",
         "70",
         "US"
        ],
        [
         "4",
         "Plymouth Fury iii",
         "14.0",
         "8",
         "440.0",
         "215.0",
         "4312.0",
         "8.5",
         "70",
         "US"
        ]
       ],
       "shape": {
        "columns": 9,
        "rows": 5
       }
      },
      "text/html": [
       "<div>\n",
       "<style scoped>\n",
       "    .dataframe tbody tr th:only-of-type {\n",
       "        vertical-align: middle;\n",
       "    }\n",
       "\n",
       "    .dataframe tbody tr th {\n",
       "        vertical-align: top;\n",
       "    }\n",
       "\n",
       "    .dataframe thead th {\n",
       "        text-align: right;\n",
       "    }\n",
       "</style>\n",
       "<table border=\"1\" class=\"dataframe\">\n",
       "  <thead>\n",
       "    <tr style=\"text-align: right;\">\n",
       "      <th></th>\n",
       "      <th>Car</th>\n",
       "      <th>MPG</th>\n",
       "      <th>Cylinders</th>\n",
       "      <th>Displacement</th>\n",
       "      <th>Horsepower</th>\n",
       "      <th>Weight</th>\n",
       "      <th>Acceleration</th>\n",
       "      <th>Model</th>\n",
       "      <th>Origin</th>\n",
       "    </tr>\n",
       "  </thead>\n",
       "  <tbody>\n",
       "    <tr>\n",
       "      <th>0</th>\n",
       "      <td>AMC Rebel SST</td>\n",
       "      <td>16.0</td>\n",
       "      <td>8</td>\n",
       "      <td>194.509877</td>\n",
       "      <td>150.000000</td>\n",
       "      <td>2978.293827</td>\n",
       "      <td>12.0</td>\n",
       "      <td>70</td>\n",
       "      <td>US</td>\n",
       "    </tr>\n",
       "    <tr>\n",
       "      <th>1</th>\n",
       "      <td>Ford Torino</td>\n",
       "      <td>17.0</td>\n",
       "      <td>8</td>\n",
       "      <td>302.000000</td>\n",
       "      <td>140.000000</td>\n",
       "      <td>3449.000000</td>\n",
       "      <td>10.5</td>\n",
       "      <td>70</td>\n",
       "      <td>US</td>\n",
       "    </tr>\n",
       "    <tr>\n",
       "      <th>2</th>\n",
       "      <td>Ford Galaxie 500</td>\n",
       "      <td>0.0</td>\n",
       "      <td>8</td>\n",
       "      <td>429.000000</td>\n",
       "      <td>103.143564</td>\n",
       "      <td>4341.000000</td>\n",
       "      <td>10.0</td>\n",
       "      <td>70</td>\n",
       "      <td>US</td>\n",
       "    </tr>\n",
       "    <tr>\n",
       "      <th>3</th>\n",
       "      <td>Chevrolet Impala</td>\n",
       "      <td>14.0</td>\n",
       "      <td>8</td>\n",
       "      <td>454.000000</td>\n",
       "      <td>220.000000</td>\n",
       "      <td>4354.000000</td>\n",
       "      <td>9.0</td>\n",
       "      <td>70</td>\n",
       "      <td>US</td>\n",
       "    </tr>\n",
       "    <tr>\n",
       "      <th>4</th>\n",
       "      <td>Plymouth Fury iii</td>\n",
       "      <td>14.0</td>\n",
       "      <td>8</td>\n",
       "      <td>440.000000</td>\n",
       "      <td>215.000000</td>\n",
       "      <td>4312.000000</td>\n",
       "      <td>8.5</td>\n",
       "      <td>70</td>\n",
       "      <td>US</td>\n",
       "    </tr>\n",
       "  </tbody>\n",
       "</table>\n",
       "</div>"
      ],
      "text/plain": [
       "                 Car   MPG Cylinders  Displacement  Horsepower       Weight Acceleration Model Origin\n",
       "0      AMC Rebel SST  16.0         8    194.509877  150.000000  2978.293827         12.0    70     US\n",
       "1        Ford Torino  17.0         8    302.000000  140.000000  3449.000000         10.5    70     US\n",
       "2   Ford Galaxie 500   0.0         8    429.000000  103.143564  4341.000000         10.0    70     US\n",
       "3   Chevrolet Impala  14.0         8    454.000000  220.000000  4354.000000          9.0    70     US\n",
       "4  Plymouth Fury iii  14.0         8    440.000000  215.000000  4312.000000          8.5    70     US"
      ]
     },
     "execution_count": 126,
     "metadata": {},
     "output_type": "execute_result"
    }
   ],
   "source": [
    "from sklearn.impute import SimpleImputer\n",
    "\n",
    "# Convert relevant columns to numeric for imputation\n",
    "cols_to_impute = ['MPG', 'Displacement', 'Horsepower', 'Weight']\n",
    "df_cars[cols_to_impute] = df_cars[cols_to_impute].apply(pd.to_numeric, errors='coerce')\n",
    "\n",
    "# Create a SimpleImputer with strategy 'mean'\n",
    "imputer = SimpleImputer(strategy='mean')\n",
    "\n",
    "# Fit and transform the columns with missing values\n",
    "df_cars[cols_to_impute] = imputer.fit_transform(df_cars[cols_to_impute])\n",
    "\n",
    "# Display the DataFrame after imputation\n",
    "df_cars.head()"
   ]
  },
  {
   "attachments": {},
   "cell_type": "markdown",
   "metadata": {},
   "source": [
    "Let's take the `MPG` column for example. We can fill in the missing values with 0s through the following line of code:\n",
    "\n",
    "`df_cars.fillna(0) `. "
   ]
  },
  {
   "cell_type": "markdown",
   "metadata": {},
   "source": [
    "***This code fills the missing values in the 'MPG' column with 0 using pandas' `fillna()` method, and then displays the updated DataFrame.***"
   ]
  },
  {
   "cell_type": "code",
   "execution_count": null,
   "metadata": {},
   "outputs": [
    {
     "data": {
      "application/vnd.microsoft.datawrangler.viewer.v0+json": {
       "columns": [
        {
         "name": "index",
         "rawType": "int64",
         "type": "integer"
        },
        {
         "name": "Car",
         "rawType": "object",
         "type": "string"
        },
        {
         "name": "MPG",
         "rawType": "float64",
         "type": "float"
        },
        {
         "name": "Cylinders",
         "rawType": "object",
         "type": "string"
        },
        {
         "name": "Displacement",
         "rawType": "float64",
         "type": "float"
        },
        {
         "name": "Horsepower",
         "rawType": "float64",
         "type": "float"
        },
        {
         "name": "Weight",
         "rawType": "float64",
         "type": "float"
        },
        {
         "name": "Acceleration",
         "rawType": "object",
         "type": "string"
        },
        {
         "name": "Model",
         "rawType": "object",
         "type": "string"
        },
        {
         "name": "Origin",
         "rawType": "object",
         "type": "string"
        }
       ],
       "ref": "a149b589-27f0-46d5-8a77-c0913e18852b",
       "rows": [
        [
         "0",
         "AMC Rebel SST",
         "16.0",
         "8",
         "194.50987654320988",
         "150.0",
         "2978.293827160494",
         "12.0",
         "70",
         "US"
        ],
        [
         "1",
         "Ford Torino",
         "17.0",
         "8",
         "302.0",
         "140.0",
         "3449.0",
         "10.5",
         "70",
         "US"
        ],
        [
         "2",
         "Ford Galaxie 500",
         "0.0",
         "8",
         "429.0",
         "103.14356435643565",
         "4341.0",
         "10.0",
         "70",
         "US"
        ],
        [
         "3",
         "Chevrolet Impala",
         "14.0",
         "8",
         "454.0",
         "220.0",
         "4354.0",
         "9.0",
         "70",
         "US"
        ],
        [
         "4",
         "Plymouth Fury iii",
         "14.0",
         "8",
         "440.0",
         "215.0",
         "4312.0",
         "8.5",
         "70",
         "US"
        ]
       ],
       "shape": {
        "columns": 9,
        "rows": 5
       }
      },
      "text/html": [
       "<div>\n",
       "<style scoped>\n",
       "    .dataframe tbody tr th:only-of-type {\n",
       "        vertical-align: middle;\n",
       "    }\n",
       "\n",
       "    .dataframe tbody tr th {\n",
       "        vertical-align: top;\n",
       "    }\n",
       "\n",
       "    .dataframe thead th {\n",
       "        text-align: right;\n",
       "    }\n",
       "</style>\n",
       "<table border=\"1\" class=\"dataframe\">\n",
       "  <thead>\n",
       "    <tr style=\"text-align: right;\">\n",
       "      <th></th>\n",
       "      <th>Car</th>\n",
       "      <th>MPG</th>\n",
       "      <th>Cylinders</th>\n",
       "      <th>Displacement</th>\n",
       "      <th>Horsepower</th>\n",
       "      <th>Weight</th>\n",
       "      <th>Acceleration</th>\n",
       "      <th>Model</th>\n",
       "      <th>Origin</th>\n",
       "    </tr>\n",
       "  </thead>\n",
       "  <tbody>\n",
       "    <tr>\n",
       "      <th>0</th>\n",
       "      <td>AMC Rebel SST</td>\n",
       "      <td>16.0</td>\n",
       "      <td>8</td>\n",
       "      <td>194.509877</td>\n",
       "      <td>150.000000</td>\n",
       "      <td>2978.293827</td>\n",
       "      <td>12.0</td>\n",
       "      <td>70</td>\n",
       "      <td>US</td>\n",
       "    </tr>\n",
       "    <tr>\n",
       "      <th>1</th>\n",
       "      <td>Ford Torino</td>\n",
       "      <td>17.0</td>\n",
       "      <td>8</td>\n",
       "      <td>302.000000</td>\n",
       "      <td>140.000000</td>\n",
       "      <td>3449.000000</td>\n",
       "      <td>10.5</td>\n",
       "      <td>70</td>\n",
       "      <td>US</td>\n",
       "    </tr>\n",
       "    <tr>\n",
       "      <th>2</th>\n",
       "      <td>Ford Galaxie 500</td>\n",
       "      <td>0.0</td>\n",
       "      <td>8</td>\n",
       "      <td>429.000000</td>\n",
       "      <td>103.143564</td>\n",
       "      <td>4341.000000</td>\n",
       "      <td>10.0</td>\n",
       "      <td>70</td>\n",
       "      <td>US</td>\n",
       "    </tr>\n",
       "    <tr>\n",
       "      <th>3</th>\n",
       "      <td>Chevrolet Impala</td>\n",
       "      <td>14.0</td>\n",
       "      <td>8</td>\n",
       "      <td>454.000000</td>\n",
       "      <td>220.000000</td>\n",
       "      <td>4354.000000</td>\n",
       "      <td>9.0</td>\n",
       "      <td>70</td>\n",
       "      <td>US</td>\n",
       "    </tr>\n",
       "    <tr>\n",
       "      <th>4</th>\n",
       "      <td>Plymouth Fury iii</td>\n",
       "      <td>14.0</td>\n",
       "      <td>8</td>\n",
       "      <td>440.000000</td>\n",
       "      <td>215.000000</td>\n",
       "      <td>4312.000000</td>\n",
       "      <td>8.5</td>\n",
       "      <td>70</td>\n",
       "      <td>US</td>\n",
       "    </tr>\n",
       "  </tbody>\n",
       "</table>\n",
       "</div>"
      ],
      "text/plain": [
       "                 Car   MPG Cylinders  Displacement  Horsepower       Weight Acceleration Model Origin\n",
       "0      AMC Rebel SST  16.0         8    194.509877  150.000000  2978.293827         12.0    70     US\n",
       "1        Ford Torino  17.0         8    302.000000  140.000000  3449.000000         10.5    70     US\n",
       "2   Ford Galaxie 500   0.0         8    429.000000  103.143564  4341.000000         10.0    70     US\n",
       "3   Chevrolet Impala  14.0         8    454.000000  220.000000  4354.000000          9.0    70     US\n",
       "4  Plymouth Fury iii  14.0         8    440.000000  215.000000  4312.000000          8.5    70     US"
      ]
     },
     "execution_count": 127,
     "metadata": {},
     "output_type": "execute_result"
    }
   ],
   "source": [
    "# Fill missing values in the 'MPG' column with 0\n",
    "df_cars['MPG'] = df_cars['MPG'].fillna(0)\n",
    "df_cars.head()"
   ]
  },
  {
   "attachments": {},
   "cell_type": "markdown",
   "metadata": {},
   "source": [
    "However, this does not make much sense as there isn't MPG equal to 0. How about we plot the MPG column and if it follows a random distribution we can use the mean of the column to compute the missing values. Otherwise, we can use the median (if there is a skewed normal distribution). However, there might be a better way of imputation which is getting the median or the mean of the MPG of the cars with similar attributes."
   ]
  },
  {
   "cell_type": "markdown",
   "metadata": {},
   "source": [
    "***This code creates a simple histogram to show how the 'MPG' (Miles Per Gallon) values are distributed across the dataset. It helps us understand how fuel efficiency varies among the cars by showing how often different MPG values occur.***"
   ]
  },
  {
   "cell_type": "code",
   "execution_count": null,
   "metadata": {},
   "outputs": [
    {
     "data": {
      "image/png": "[encoded data removed]",
      "text/plain": [
       "<Figure size 800x500 with 1 Axes>"
      ]
     },
     "metadata": {},
     "output_type": "display_data"
    }
   ],
   "source": [
    "import matplotlib.pyplot as plt\n",
    "\n",
    "# Plot the distribution of the MPG column\n",
    "plt.figure(figsize=(8, 5))\n",
    "plt.hist(df_cars['MPG'], bins=30, edgecolor='black')\n",
    "plt.title('Distribution of MPG')\n",
    "plt.xlabel('MPG')\n",
    "plt.ylabel('Frequency')\n",
    "plt.show()"
   ]
  },
  {
   "attachments": {},
   "cell_type": "markdown",
   "metadata": {},
   "source": [
    "If we observe the graph above, we can consider it in a way or another normally distributed. Therefore, we can impute the missing values using the mean."
   ]
  },
  {
   "cell_type": "markdown",
   "metadata": {},
   "source": [
    "### Missing Value Imputation (MPG Column) \n",
    "\n",
    "***Missing values in the 'MPG' (Miles Per Gallon) column were replaced using the column's mean value. This technique ensures no data points are lost and maintains the overall distribution of fuel efficiency in the dataset.***"
   ]
  },
  {
   "cell_type": "code",
   "execution_count": null,
   "metadata": {},
   "outputs": [
    {
     "name": "stdout",
     "output_type": "stream",
     "text": [
      "Mean MPG used for imputation: 23.059057071960297\n"
     ]
    },
    {
     "data": {
      "application/vnd.microsoft.datawrangler.viewer.v0+json": {
       "columns": [
        {
         "name": "index",
         "rawType": "int64",
         "type": "integer"
        },
        {
         "name": "Car",
         "rawType": "object",
         "type": "string"
        },
        {
         "name": "MPG",
         "rawType": "float64",
         "type": "float"
        },
        {
         "name": "Cylinders",
         "rawType": "object",
         "type": "string"
        },
        {
         "name": "Displacement",
         "rawType": "float64",
         "type": "float"
        },
        {
         "name": "Horsepower",
         "rawType": "float64",
         "type": "float"
        },
        {
         "name": "Weight",
         "rawType": "float64",
         "type": "float"
        },
        {
         "name": "Acceleration",
         "rawType": "object",
         "type": "string"
        },
        {
         "name": "Model",
         "rawType": "object",
         "type": "string"
        },
        {
         "name": "Origin",
         "rawType": "object",
         "type": "string"
        }
       ],
       "ref": "f3eadbc2-2aa3-4d68-8c76-383cd96fab69",
       "rows": [
        [
         "0",
         "AMC Rebel SST",
         "16.0",
         "8",
         "194.50987654320988",
         "150.0",
         "2978.293827160494",
         "12.0",
         "70",
         "US"
        ],
        [
         "1",
         "Ford Torino",
         "17.0",
         "8",
         "302.0",
         "140.0",
         "3449.0",
         "10.5",
         "70",
         "US"
        ],
        [
         "2",
         "Ford Galaxie 500",
         "0.0",
         "8",
         "429.0",
         "103.14356435643565",
         "4341.0",
         "10.0",
         "70",
         "US"
        ],
        [
         "3",
         "Chevrolet Impala",
         "14.0",
         "8",
         "454.0",
         "220.0",
         "4354.0",
         "9.0",
         "70",
         "US"
        ],
        [
         "4",
         "Plymouth Fury iii",
         "14.0",
         "8",
         "440.0",
         "215.0",
         "4312.0",
         "8.5",
         "70",
         "US"
        ]
       ],
       "shape": {
        "columns": 9,
        "rows": 5
       }
      },
      "text/html": [
       "<div>\n",
       "<style scoped>\n",
       "    .dataframe tbody tr th:only-of-type {\n",
       "        vertical-align: middle;\n",
       "    }\n",
       "\n",
       "    .dataframe tbody tr th {\n",
       "        vertical-align: top;\n",
       "    }\n",
       "\n",
       "    .dataframe thead th {\n",
       "        text-align: right;\n",
       "    }\n",
       "</style>\n",
       "<table border=\"1\" class=\"dataframe\">\n",
       "  <thead>\n",
       "    <tr style=\"text-align: right;\">\n",
       "      <th></th>\n",
       "      <th>Car</th>\n",
       "      <th>MPG</th>\n",
       "      <th>Cylinders</th>\n",
       "      <th>Displacement</th>\n",
       "      <th>Horsepower</th>\n",
       "      <th>Weight</th>\n",
       "      <th>Acceleration</th>\n",
       "      <th>Model</th>\n",
       "      <th>Origin</th>\n",
       "    </tr>\n",
       "  </thead>\n",
       "  <tbody>\n",
       "    <tr>\n",
       "      <th>0</th>\n",
       "      <td>AMC Rebel SST</td>\n",
       "      <td>16.0</td>\n",
       "      <td>8</td>\n",
       "      <td>194.509877</td>\n",
       "      <td>150.000000</td>\n",
       "      <td>2978.293827</td>\n",
       "      <td>12.0</td>\n",
       "      <td>70</td>\n",
       "      <td>US</td>\n",
       "    </tr>\n",
       "    <tr>\n",
       "      <th>1</th>\n",
       "      <td>Ford Torino</td>\n",
       "      <td>17.0</td>\n",
       "      <td>8</td>\n",
       "      <td>302.000000</td>\n",
       "      <td>140.000000</td>\n",
       "      <td>3449.000000</td>\n",
       "      <td>10.5</td>\n",
       "      <td>70</td>\n",
       "      <td>US</td>\n",
       "    </tr>\n",
       "    <tr>\n",
       "      <th>2</th>\n",
       "      <td>Ford Galaxie 500</td>\n",
       "      <td>0.0</td>\n",
       "      <td>8</td>\n",
       "      <td>429.000000</td>\n",
       "      <td>103.143564</td>\n",
       "      <td>4341.000000</td>\n",
       "      <td>10.0</td>\n",
       "      <td>70</td>\n",
       "      <td>US</td>\n",
       "    </tr>\n",
       "    <tr>\n",
       "      <th>3</th>\n",
       "      <td>Chevrolet Impala</td>\n",
       "      <td>14.0</td>\n",
       "      <td>8</td>\n",
       "      <td>454.000000</td>\n",
       "      <td>220.000000</td>\n",
       "      <td>4354.000000</td>\n",
       "      <td>9.0</td>\n",
       "      <td>70</td>\n",
       "      <td>US</td>\n",
       "    </tr>\n",
       "    <tr>\n",
       "      <th>4</th>\n",
       "      <td>Plymouth Fury iii</td>\n",
       "      <td>14.0</td>\n",
       "      <td>8</td>\n",
       "      <td>440.000000</td>\n",
       "      <td>215.000000</td>\n",
       "      <td>4312.000000</td>\n",
       "      <td>8.5</td>\n",
       "      <td>70</td>\n",
       "      <td>US</td>\n",
       "    </tr>\n",
       "  </tbody>\n",
       "</table>\n",
       "</div>"
      ],
      "text/plain": [
       "                 Car   MPG Cylinders  Displacement  Horsepower       Weight Acceleration Model Origin\n",
       "0      AMC Rebel SST  16.0         8    194.509877  150.000000  2978.293827         12.0    70     US\n",
       "1        Ford Torino  17.0         8    302.000000  140.000000  3449.000000         10.5    70     US\n",
       "2   Ford Galaxie 500   0.0         8    429.000000  103.143564  4341.000000         10.0    70     US\n",
       "3   Chevrolet Impala  14.0         8    454.000000  220.000000  4354.000000          9.0    70     US\n",
       "4  Plymouth Fury iii  14.0         8    440.000000  215.000000  4312.000000          8.5    70     US"
      ]
     },
     "execution_count": 129,
     "metadata": {},
     "output_type": "execute_result"
    }
   ],
   "source": [
    "# Impute missing values in the 'MPG' column using the mean\n",
    "mean_mpg = df_cars['MPG'].mean()\n",
    "df_cars['MPG'] = df_cars['MPG'].fillna(mean_mpg)\n",
    "print(f\"Mean MPG used for imputation: {mean_mpg}\")\n",
    "df_cars.head()"
   ]
  },
  {
   "attachments": {},
   "cell_type": "markdown",
   "metadata": {},
   "source": [
    "To compute the mean we need numeric values. However the values in the dataframe are objects. Therefore, we need to change them to numerics so that we can compute them."
   ]
  },
  {
   "cell_type": "markdown",
   "metadata": {},
   "source": [
    "### Data Type Conversion for Numerical Analysis\n",
    "\n",
    "***To prepare the dataset for numerical analysis, columns listed in `cols_to_impute` were converted to numeric types. Any non-numeric values were coerced into `NaN`, allowing for cleaner handling of invalid or inconsistent data entries during the data cleaning process.***\n"
   ]
  },
  {
   "cell_type": "code",
   "execution_count": null,
   "metadata": {},
   "outputs": [
    {
     "data": {
      "application/vnd.microsoft.datawrangler.viewer.v0+json": {
       "columns": [
        {
         "name": "index",
         "rawType": "object",
         "type": "string"
        },
        {
         "name": "0",
         "rawType": "object",
         "type": "unknown"
        }
       ],
       "ref": "93ae351b-2f57-4f3a-90f6-4793d6faa37c",
       "rows": [
        [
         "Car",
         "object"
        ],
        [
         "MPG",
         "float64"
        ],
        [
         "Cylinders",
         "object"
        ],
        [
         "Displacement",
         "float64"
        ],
        [
         "Horsepower",
         "float64"
        ],
        [
         "Weight",
         "float64"
        ],
        [
         "Acceleration",
         "object"
        ],
        [
         "Model",
         "object"
        ],
        [
         "Origin",
         "object"
        ]
       ],
       "shape": {
        "columns": 1,
        "rows": 9
       }
      },
      "text/plain": [
       "Car              object\n",
       "MPG             float64\n",
       "Cylinders        object\n",
       "Displacement    float64\n",
       "Horsepower      float64\n",
       "Weight          float64\n",
       "Acceleration     object\n",
       "Model            object\n",
       "Origin           object\n",
       "dtype: object"
      ]
     },
     "execution_count": 130,
     "metadata": {},
     "output_type": "execute_result"
    }
   ],
   "source": [
    "# Convert columns in cols_to_impute to numeric, coercing errors to NaN\n",
    "df_cars[cols_to_impute] = df_cars[cols_to_impute].apply(pd.to_numeric, errors='coerce')\n",
    "df_cars.dtypes"
   ]
  },
  {
   "attachments": {},
   "cell_type": "markdown",
   "metadata": {},
   "source": [
    "Now let's see what is the mean of the MPG column"
   ]
  },
  {
   "cell_type": "markdown",
   "metadata": {},
   "source": [
    "### Calculating the Mean of the 'MPG' Column\n",
    "\n",
    "***The average (mean) value of the **'MPG' (Miles Per Gallon)** column was calculated to understand the central tendency of fuel efficiency across the dataset. This value can also be used for imputing miss***"
   ]
  },
  {
   "cell_type": "code",
   "execution_count": null,
   "metadata": {},
   "outputs": [
    {
     "name": "stdout",
     "output_type": "stream",
     "text": [
      "Mean of the MPG column: 23.059057071960297\n"
     ]
    }
   ],
   "source": [
    "# Calculate and display the mean of the MPG column\n",
    "mean_mpg = df_cars['MPG'].mean()\n",
    "print(f\"Mean of the MPG column: {mean_mpg}\")"
   ]
  },
  {
   "attachments": {},
   "cell_type": "markdown",
   "metadata": {},
   "source": [
    "We can use this mean to compute the missing values since the graph demonstarted a normal distribution"
   ]
  },
  {
   "cell_type": "markdown",
   "metadata": {},
   "source": [
    "### Filling Missing 'MPG' Values with the Mean\n",
    "\n",
    "***After calculating the mean of the **'MPG'** column, all missing values in this column were filled with that mean. This helps maintain data integrity without removing any records, ensuring the dataset remains complete for analysis.***"
   ]
  },
  {
   "cell_type": "code",
   "execution_count": null,
   "metadata": {},
   "outputs": [
    {
     "data": {
      "application/vnd.microsoft.datawrangler.viewer.v0+json": {
       "columns": [
        {
         "name": "index",
         "rawType": "int64",
         "type": "integer"
        },
        {
         "name": "Car",
         "rawType": "object",
         "type": "string"
        },
        {
         "name": "MPG",
         "rawType": "float64",
         "type": "float"
        },
        {
         "name": "Cylinders",
         "rawType": "object",
         "type": "string"
        },
        {
         "name": "Displacement",
         "rawType": "float64",
         "type": "float"
        },
        {
         "name": "Horsepower",
         "rawType": "float64",
         "type": "float"
        },
        {
         "name": "Weight",
         "rawType": "float64",
         "type": "float"
        },
        {
         "name": "Acceleration",
         "rawType": "object",
         "type": "string"
        },
        {
         "name": "Model",
         "rawType": "object",
         "type": "string"
        },
        {
         "name": "Origin",
         "rawType": "object",
         "type": "string"
        }
       ],
       "ref": "57279746-27bd-453b-af43-0cdb4fa767e5",
       "rows": [
        [
         "0",
         "AMC Rebel SST",
         "16.0",
         "8",
         "194.50987654320988",
         "150.0",
         "2978.293827160494",
         "12.0",
         "70",
         "US"
        ],
        [
         "1",
         "Ford Torino",
         "17.0",
         "8",
         "302.0",
         "140.0",
         "3449.0",
         "10.5",
         "70",
         "US"
        ],
        [
         "2",
         "Ford Galaxie 500",
         "0.0",
         "8",
         "429.0",
         "103.14356435643565",
         "4341.0",
         "10.0",
         "70",
         "US"
        ],
        [
         "3",
         "Chevrolet Impala",
         "14.0",
         "8",
         "454.0",
         "220.0",
         "4354.0",
         "9.0",
         "70",
         "US"
        ],
        [
         "4",
         "Plymouth Fury iii",
         "14.0",
         "8",
         "440.0",
         "215.0",
         "4312.0",
         "8.5",
         "70",
         "US"
        ]
       ],
       "shape": {
        "columns": 9,
        "rows": 5
       }
      },
      "text/html": [
       "<div>\n",
       "<style scoped>\n",
       "    .dataframe tbody tr th:only-of-type {\n",
       "        vertical-align: middle;\n",
       "    }\n",
       "\n",
       "    .dataframe tbody tr th {\n",
       "        vertical-align: top;\n",
       "    }\n",
       "\n",
       "    .dataframe thead th {\n",
       "        text-align: right;\n",
       "    }\n",
       "</style>\n",
       "<table border=\"1\" class=\"dataframe\">\n",
       "  <thead>\n",
       "    <tr style=\"text-align: right;\">\n",
       "      <th></th>\n",
       "      <th>Car</th>\n",
       "      <th>MPG</th>\n",
       "      <th>Cylinders</th>\n",
       "      <th>Displacement</th>\n",
       "      <th>Horsepower</th>\n",
       "      <th>Weight</th>\n",
       "      <th>Acceleration</th>\n",
       "      <th>Model</th>\n",
       "      <th>Origin</th>\n",
       "    </tr>\n",
       "  </thead>\n",
       "  <tbody>\n",
       "    <tr>\n",
       "      <th>0</th>\n",
       "      <td>AMC Rebel SST</td>\n",
       "      <td>16.0</td>\n",
       "      <td>8</td>\n",
       "      <td>194.509877</td>\n",
       "      <td>150.000000</td>\n",
       "      <td>2978.293827</td>\n",
       "      <td>12.0</td>\n",
       "      <td>70</td>\n",
       "      <td>US</td>\n",
       "    </tr>\n",
       "    <tr>\n",
       "      <th>1</th>\n",
       "      <td>Ford Torino</td>\n",
       "      <td>17.0</td>\n",
       "      <td>8</td>\n",
       "      <td>302.000000</td>\n",
       "      <td>140.000000</td>\n",
       "      <td>3449.000000</td>\n",
       "      <td>10.5</td>\n",
       "      <td>70</td>\n",
       "      <td>US</td>\n",
       "    </tr>\n",
       "    <tr>\n",
       "      <th>2</th>\n",
       "      <td>Ford Galaxie 500</td>\n",
       "      <td>0.0</td>\n",
       "      <td>8</td>\n",
       "      <td>429.000000</td>\n",
       "      <td>103.143564</td>\n",
       "      <td>4341.000000</td>\n",
       "      <td>10.0</td>\n",
       "      <td>70</td>\n",
       "      <td>US</td>\n",
       "    </tr>\n",
       "    <tr>\n",
       "      <th>3</th>\n",
       "      <td>Chevrolet Impala</td>\n",
       "      <td>14.0</td>\n",
       "      <td>8</td>\n",
       "      <td>454.000000</td>\n",
       "      <td>220.000000</td>\n",
       "      <td>4354.000000</td>\n",
       "      <td>9.0</td>\n",
       "      <td>70</td>\n",
       "      <td>US</td>\n",
       "    </tr>\n",
       "    <tr>\n",
       "      <th>4</th>\n",
       "      <td>Plymouth Fury iii</td>\n",
       "      <td>14.0</td>\n",
       "      <td>8</td>\n",
       "      <td>440.000000</td>\n",
       "      <td>215.000000</td>\n",
       "      <td>4312.000000</td>\n",
       "      <td>8.5</td>\n",
       "      <td>70</td>\n",
       "      <td>US</td>\n",
       "    </tr>\n",
       "  </tbody>\n",
       "</table>\n",
       "</div>"
      ],
      "text/plain": [
       "                 Car   MPG Cylinders  Displacement  Horsepower       Weight Acceleration Model Origin\n",
       "0      AMC Rebel SST  16.0         8    194.509877  150.000000  2978.293827         12.0    70     US\n",
       "1        Ford Torino  17.0         8    302.000000  140.000000  3449.000000         10.5    70     US\n",
       "2   Ford Galaxie 500   0.0         8    429.000000  103.143564  4341.000000         10.0    70     US\n",
       "3   Chevrolet Impala  14.0         8    454.000000  220.000000  4354.000000          9.0    70     US\n",
       "4  Plymouth Fury iii  14.0         8    440.000000  215.000000  4312.000000          8.5    70     US"
      ]
     },
     "execution_count": 132,
     "metadata": {},
     "output_type": "execute_result"
    }
   ],
   "source": [
    "# Fill missing values in the 'MPG' column with the computed mean\n",
    "df_cars['MPG'] = df_cars['MPG'].fillna(mean_mpg)\n",
    "df_cars.head()"
   ]
  },
  {
   "attachments": {},
   "cell_type": "markdown",
   "metadata": {},
   "source": [
    "### **Car Dataset - Simple Imputer**"
   ]
  },
  {
   "attachments": {},
   "cell_type": "markdown",
   "metadata": {},
   "source": [
    "*SimpleImputer* is a `scikit-learn` class which is helpful in handling the missing data in the predictive model dataset. It replaces the `NaN` values with a specified placeholder.\n",
    "It is implemented by the use of the `SimpleImputer()` method which takes the following arguments :\n",
    "\n",
    "`missing_values` : The missing_values placeholder which has to be imputed. By default is NaN\n",
    "\n",
    "`strategy` : The data which will replace the NaN values from the dataset. The strategy argument can take the values – ‘mean'(default), ‘median’, ‘most_frequent’ and ‘constant’.\n"
   ]
  },
  {
   "attachments": {},
   "cell_type": "markdown",
   "metadata": {},
   "source": [
    "Let's start by importing the `SimpleImputer` into our notebook"
   ]
  },
  {
   "cell_type": "markdown",
   "metadata": {},
   "source": [
    "### Missing Value Imputation with SimpleImputer\n",
    "\n",
    "***Used `SimpleImputer` with the mean strategy to automatically fill missing values in selected numeric columns. This ensures consistent and efficient handling of missing data across multiple columns.***\n"
   ]
  },
  {
   "cell_type": "code",
   "execution_count": null,
   "metadata": {},
   "outputs": [
    {
     "data": {
      "application/vnd.microsoft.datawrangler.viewer.v0+json": {
       "columns": [
        {
         "name": "index",
         "rawType": "int64",
         "type": "integer"
        },
        {
         "name": "Car",
         "rawType": "object",
         "type": "string"
        },
        {
         "name": "MPG",
         "rawType": "float64",
         "type": "float"
        },
        {
         "name": "Cylinders",
         "rawType": "object",
         "type": "string"
        },
        {
         "name": "Displacement",
         "rawType": "float64",
         "type": "float"
        },
        {
         "name": "Horsepower",
         "rawType": "float64",
         "type": "float"
        },
        {
         "name": "Weight",
         "rawType": "float64",
         "type": "float"
        },
        {
         "name": "Acceleration",
         "rawType": "object",
         "type": "string"
        },
        {
         "name": "Model",
         "rawType": "object",
         "type": "string"
        },
        {
         "name": "Origin",
         "rawType": "object",
         "type": "string"
        }
       ],
       "ref": "2d1cb8d7-5908-4d97-b57b-036b8e60af77",
       "rows": [
        [
         "0",
         "AMC Rebel SST",
         "16.0",
         "8",
         "194.50987654320988",
         "150.0",
         "2978.293827160494",
         "12.0",
         "70",
         "US"
        ],
        [
         "1",
         "Ford Torino",
         "17.0",
         "8",
         "302.0",
         "140.0",
         "3449.0",
         "10.5",
         "70",
         "US"
        ],
        [
         "2",
         "Ford Galaxie 500",
         "0.0",
         "8",
         "429.0",
         "103.14356435643565",
         "4341.0",
         "10.0",
         "70",
         "US"
        ],
        [
         "3",
         "Chevrolet Impala",
         "14.0",
         "8",
         "454.0",
         "220.0",
         "4354.0",
         "9.0",
         "70",
         "US"
        ],
        [
         "4",
         "Plymouth Fury iii",
         "14.0",
         "8",
         "440.0",
         "215.0",
         "4312.0",
         "8.5",
         "70",
         "US"
        ]
       ],
       "shape": {
        "columns": 9,
        "rows": 5
       }
      },
      "text/html": [
       "<div>\n",
       "<style scoped>\n",
       "    .dataframe tbody tr th:only-of-type {\n",
       "        vertical-align: middle;\n",
       "    }\n",
       "\n",
       "    .dataframe tbody tr th {\n",
       "        vertical-align: top;\n",
       "    }\n",
       "\n",
       "    .dataframe thead th {\n",
       "        text-align: right;\n",
       "    }\n",
       "</style>\n",
       "<table border=\"1\" class=\"dataframe\">\n",
       "  <thead>\n",
       "    <tr style=\"text-align: right;\">\n",
       "      <th></th>\n",
       "      <th>Car</th>\n",
       "      <th>MPG</th>\n",
       "      <th>Cylinders</th>\n",
       "      <th>Displacement</th>\n",
       "      <th>Horsepower</th>\n",
       "      <th>Weight</th>\n",
       "      <th>Acceleration</th>\n",
       "      <th>Model</th>\n",
       "      <th>Origin</th>\n",
       "    </tr>\n",
       "  </thead>\n",
       "  <tbody>\n",
       "    <tr>\n",
       "      <th>0</th>\n",
       "      <td>AMC Rebel SST</td>\n",
       "      <td>16.0</td>\n",
       "      <td>8</td>\n",
       "      <td>194.509877</td>\n",
       "      <td>150.000000</td>\n",
       "      <td>2978.293827</td>\n",
       "      <td>12.0</td>\n",
       "      <td>70</td>\n",
       "      <td>US</td>\n",
       "    </tr>\n",
       "    <tr>\n",
       "      <th>1</th>\n",
       "      <td>Ford Torino</td>\n",
       "      <td>17.0</td>\n",
       "      <td>8</td>\n",
       "      <td>302.000000</td>\n",
       "      <td>140.000000</td>\n",
       "      <td>3449.000000</td>\n",
       "      <td>10.5</td>\n",
       "      <td>70</td>\n",
       "      <td>US</td>\n",
       "    </tr>\n",
       "    <tr>\n",
       "      <th>2</th>\n",
       "      <td>Ford Galaxie 500</td>\n",
       "      <td>0.0</td>\n",
       "      <td>8</td>\n",
       "      <td>429.000000</td>\n",
       "      <td>103.143564</td>\n",
       "      <td>4341.000000</td>\n",
       "      <td>10.0</td>\n",
       "      <td>70</td>\n",
       "      <td>US</td>\n",
       "    </tr>\n",
       "    <tr>\n",
       "      <th>3</th>\n",
       "      <td>Chevrolet Impala</td>\n",
       "      <td>14.0</td>\n",
       "      <td>8</td>\n",
       "      <td>454.000000</td>\n",
       "      <td>220.000000</td>\n",
       "      <td>4354.000000</td>\n",
       "      <td>9.0</td>\n",
       "      <td>70</td>\n",
       "      <td>US</td>\n",
       "    </tr>\n",
       "    <tr>\n",
       "      <th>4</th>\n",
       "      <td>Plymouth Fury iii</td>\n",
       "      <td>14.0</td>\n",
       "      <td>8</td>\n",
       "      <td>440.000000</td>\n",
       "      <td>215.000000</td>\n",
       "      <td>4312.000000</td>\n",
       "      <td>8.5</td>\n",
       "      <td>70</td>\n",
       "      <td>US</td>\n",
       "    </tr>\n",
       "  </tbody>\n",
       "</table>\n",
       "</div>"
      ],
      "text/plain": [
       "                 Car   MPG Cylinders  Displacement  Horsepower       Weight Acceleration Model Origin\n",
       "0      AMC Rebel SST  16.0         8    194.509877  150.000000  2978.293827         12.0    70     US\n",
       "1        Ford Torino  17.0         8    302.000000  140.000000  3449.000000         10.5    70     US\n",
       "2   Ford Galaxie 500   0.0         8    429.000000  103.143564  4341.000000         10.0    70     US\n",
       "3   Chevrolet Impala  14.0         8    454.000000  220.000000  4354.000000          9.0    70     US\n",
       "4  Plymouth Fury iii  14.0         8    440.000000  215.000000  4312.000000          8.5    70     US"
      ]
     },
     "execution_count": 133,
     "metadata": {},
     "output_type": "execute_result"
    }
   ],
   "source": [
    "from sklearn.impute import SimpleImputer\n",
    "\n",
    "# Using SimpleImputer to fill missing values in the selected columns with the mean strategy\n",
    "\n",
    "imputer = SimpleImputer(strategy='mean')\n",
    "df_cars[cols_to_impute] = imputer.fit_transform(df_cars[cols_to_impute])\n",
    "df_cars.head()"
   ]
  },
  {
   "attachments": {},
   "cell_type": "markdown",
   "metadata": {},
   "source": [
    "What we need to do are two essential steps:\n",
    "\n",
    "1. fit the data (compute the mean / median / most freq)\n",
    "2. transform the data (place the computed values in the NaN cells)"
   ]
  },
  {
   "cell_type": "markdown",
   "metadata": {},
   "source": [
    "### Imputation Process Using SimpleImputer\n",
    "\n",
    "***The imputer first calculated the mean values for the selected columns during the fit step. Then, in the transform step, it replaced all missing values with these computed means, ensuring the dataset has no gaps in those columns.***"
   ]
  },
  {
   "cell_type": "code",
   "execution_count": null,
   "metadata": {},
   "outputs": [
    {
     "data": {
      "application/vnd.microsoft.datawrangler.viewer.v0+json": {
       "columns": [
        {
         "name": "index",
         "rawType": "int64",
         "type": "integer"
        },
        {
         "name": "Car",
         "rawType": "object",
         "type": "string"
        },
        {
         "name": "MPG",
         "rawType": "float64",
         "type": "float"
        },
        {
         "name": "Cylinders",
         "rawType": "object",
         "type": "string"
        },
        {
         "name": "Displacement",
         "rawType": "float64",
         "type": "float"
        },
        {
         "name": "Horsepower",
         "rawType": "float64",
         "type": "float"
        },
        {
         "name": "Weight",
         "rawType": "float64",
         "type": "float"
        },
        {
         "name": "Acceleration",
         "rawType": "object",
         "type": "string"
        },
        {
         "name": "Model",
         "rawType": "object",
         "type": "string"
        },
        {
         "name": "Origin",
         "rawType": "object",
         "type": "string"
        }
       ],
       "ref": "346ee551-5250-4451-9c18-5764c6b12774",
       "rows": [
        [
         "0",
         "AMC Rebel SST",
         "16.0",
         "8",
         "194.50987654320988",
         "150.0",
         "2978.293827160494",
         "12.0",
         "70",
         "US"
        ],
        [
         "1",
         "Ford Torino",
         "17.0",
         "8",
         "302.0",
         "140.0",
         "3449.0",
         "10.5",
         "70",
         "US"
        ],
        [
         "2",
         "Ford Galaxie 500",
         "0.0",
         "8",
         "429.0",
         "103.14356435643565",
         "4341.0",
         "10.0",
         "70",
         "US"
        ],
        [
         "3",
         "Chevrolet Impala",
         "14.0",
         "8",
         "454.0",
         "220.0",
         "4354.0",
         "9.0",
         "70",
         "US"
        ],
        [
         "4",
         "Plymouth Fury iii",
         "14.0",
         "8",
         "440.0",
         "215.0",
         "4312.0",
         "8.5",
         "70",
         "US"
        ]
       ],
       "shape": {
        "columns": 9,
        "rows": 5
       }
      },
      "text/html": [
       "<div>\n",
       "<style scoped>\n",
       "    .dataframe tbody tr th:only-of-type {\n",
       "        vertical-align: middle;\n",
       "    }\n",
       "\n",
       "    .dataframe tbody tr th {\n",
       "        vertical-align: top;\n",
       "    }\n",
       "\n",
       "    .dataframe thead th {\n",
       "        text-align: right;\n",
       "    }\n",
       "</style>\n",
       "<table border=\"1\" class=\"dataframe\">\n",
       "  <thead>\n",
       "    <tr style=\"text-align: right;\">\n",
       "      <th></th>\n",
       "      <th>Car</th>\n",
       "      <th>MPG</th>\n",
       "      <th>Cylinders</th>\n",
       "      <th>Displacement</th>\n",
       "      <th>Horsepower</th>\n",
       "      <th>Weight</th>\n",
       "      <th>Acceleration</th>\n",
       "      <th>Model</th>\n",
       "      <th>Origin</th>\n",
       "    </tr>\n",
       "  </thead>\n",
       "  <tbody>\n",
       "    <tr>\n",
       "      <th>0</th>\n",
       "      <td>AMC Rebel SST</td>\n",
       "      <td>16.0</td>\n",
       "      <td>8</td>\n",
       "      <td>194.509877</td>\n",
       "      <td>150.000000</td>\n",
       "      <td>2978.293827</td>\n",
       "      <td>12.0</td>\n",
       "      <td>70</td>\n",
       "      <td>US</td>\n",
       "    </tr>\n",
       "    <tr>\n",
       "      <th>1</th>\n",
       "      <td>Ford Torino</td>\n",
       "      <td>17.0</td>\n",
       "      <td>8</td>\n",
       "      <td>302.000000</td>\n",
       "      <td>140.000000</td>\n",
       "      <td>3449.000000</td>\n",
       "      <td>10.5</td>\n",
       "      <td>70</td>\n",
       "      <td>US</td>\n",
       "    </tr>\n",
       "    <tr>\n",
       "      <th>2</th>\n",
       "      <td>Ford Galaxie 500</td>\n",
       "      <td>0.0</td>\n",
       "      <td>8</td>\n",
       "      <td>429.000000</td>\n",
       "      <td>103.143564</td>\n",
       "      <td>4341.000000</td>\n",
       "      <td>10.0</td>\n",
       "      <td>70</td>\n",
       "      <td>US</td>\n",
       "    </tr>\n",
       "    <tr>\n",
       "      <th>3</th>\n",
       "      <td>Chevrolet Impala</td>\n",
       "      <td>14.0</td>\n",
       "      <td>8</td>\n",
       "      <td>454.000000</td>\n",
       "      <td>220.000000</td>\n",
       "      <td>4354.000000</td>\n",
       "      <td>9.0</td>\n",
       "      <td>70</td>\n",
       "      <td>US</td>\n",
       "    </tr>\n",
       "    <tr>\n",
       "      <th>4</th>\n",
       "      <td>Plymouth Fury iii</td>\n",
       "      <td>14.0</td>\n",
       "      <td>8</td>\n",
       "      <td>440.000000</td>\n",
       "      <td>215.000000</td>\n",
       "      <td>4312.000000</td>\n",
       "      <td>8.5</td>\n",
       "      <td>70</td>\n",
       "      <td>US</td>\n",
       "    </tr>\n",
       "  </tbody>\n",
       "</table>\n",
       "</div>"
      ],
      "text/plain": [
       "                 Car   MPG Cylinders  Displacement  Horsepower       Weight Acceleration Model Origin\n",
       "0      AMC Rebel SST  16.0         8    194.509877  150.000000  2978.293827         12.0    70     US\n",
       "1        Ford Torino  17.0         8    302.000000  140.000000  3449.000000         10.5    70     US\n",
       "2   Ford Galaxie 500   0.0         8    429.000000  103.143564  4341.000000         10.0    70     US\n",
       "3   Chevrolet Impala  14.0         8    454.000000  220.000000  4354.000000          9.0    70     US\n",
       "4  Plymouth Fury iii  14.0         8    440.000000  215.000000  4312.000000          8.5    70     US"
      ]
     },
     "execution_count": 134,
     "metadata": {},
     "output_type": "execute_result"
    }
   ],
   "source": [
    "# Step 1: Fit the imputer to compute the statistics (mean in this case)\n",
    "imputer.fit(df_cars[cols_to_impute])\n",
    "\n",
    "# Step 2: Transform the data to fill NaN cells with the computed statistics\n",
    "df_cars[cols_to_impute] = imputer.transform(df_cars[cols_to_impute])\n",
    "\n",
    "# Display the DataFrame after imputation\n",
    "df_cars.head()"
   ]
  },
  {
   "cell_type": "markdown",
   "metadata": {},
   "source": [
    "## **Outlier Detection** \n",
    "\n",
    "\n",
    "An Outlier is a data-item/object that deviates significantly from the rest of the (so-called normal)objects. They can be caused by measurement or execution errors. The analysis for outlier detection is referred to as outlier mining. There are many ways to detect the outliers, and the removal process is the data frame same as removing a data item from the panda’s data frame.\n",
    "\n",
    "\n",
    "\n",
    "https://www.geeksforgeeks.org/detect-and-remove-the-outliers-using-python/\n",
    "\n",
    "\n",
    "\n"
   ]
  },
  {
   "cell_type": "markdown",
   "metadata": {},
   "source": [
    "### Removing Outliers from the 'Horsepower' Column\n",
    "\n",
    "1. The dataset was loaded from a CSV file using a semicolon (`;`) as the delimiter.\n",
    "2. The 'Horsepower' column was converted to numeric, with invalid entries replaced by `NaN`.\n",
    "3. Rows containing `NaN` in 'Horsepower' were dropped to ensure clean data.\n",
    "4. Outliers in 'Horsepower' were identified and removed using the **Z-score method** with a threshold of 3 standard deviations.\n",
    "5. The cleaned dataset without outliers was then displayed.\n",
    "\n",
    "This process helps improve the quality of the data by eliminating extreme values that could skew analysis.\n"
   ]
  },
  {
   "cell_type": "code",
   "execution_count": null,
   "metadata": {},
   "outputs": [
    {
     "name": "stdout",
     "output_type": "stream",
     "text": [
      "                           Car   MPG Cylinders Displacement  Horsepower Weight Acceleration Model  Origin\n",
      "1    Chevrolet Chevelle Malibu   NaN         8        307.0       130.0  3504.         12.0    70      US\n",
      "3           Plymouth Satellite   NaN         8        318.0       150.0  3436.         11.0    70      US\n",
      "4                AMC Rebel SST  16.0         8          NaN       150.0    NaN         12.0    70      US\n",
      "5                  Ford Torino  17.0         8        302.0       140.0  3449.         10.5    70      US\n",
      "7             Chevrolet Impala  14.0         8        454.0       220.0  4354.          9.0    70      US\n",
      "..                         ...   ...       ...          ...         ...    ...          ...   ...     ...\n",
      "402            Ford Mustang GL  27.0         4        140.0        86.0  2790.         15.6    82      US\n",
      "403          Volkswagen Pickup  44.0         4        97.00        52.0  2130.         24.6    82  Europe\n",
      "404              Dodge Rampage  32.0         4        135.0        84.0  2295.         11.6    82      US\n",
      "405                Ford Ranger  28.0         4        120.0        79.0  2625.         18.6    82      US\n",
      "406                 Chevy S-10  31.0         4        119.0        82.0  2720.         19.4    82      US\n",
      "\n",
      "[400 rows x 9 columns]\n"
     ]
    }
   ],
   "source": [
    "import pandas as pd\n",
    "import numpy as np\n",
    "from scipy import stats\n",
    "\n",
    "# Step 1: Read CSV with semicolon delimiter\n",
    "df = pd.read_csv('./Data/cars.csv', delimiter=';')\n",
    "\n",
    "# Step 2: Convert 'Horsepower' to numeric (non-convertible values become NaN)\n",
    "df['Horsepower'] = pd.to_numeric(df['Horsepower'], errors='coerce')\n",
    "\n",
    "# Step 3: Drop rows with NaN in 'Horsepower'\n",
    "df = df.dropna(subset=['Horsepower'])\n",
    "\n",
    "# Step 4: Compute Z-score and remove outliers\n",
    "z = np.abs(stats.zscore(df[['Horsepower']]))\n",
    "df_no_outliers = df[(z < 3).all(axis=1)]\n",
    "\n",
    "# Step 5: View result\n",
    "print(df_no_outliers)\n"
   ]
  },
  {
   "cell_type": "markdown",
   "metadata": {},
   "source": [
    "### Outliers Visualization"
   ]
  },
  {
   "cell_type": "markdown",
   "metadata": {},
   "source": [
    "*SimpleImputer* is a `scikit-learn` class which is helpful in handling the missing data in the predictive model dataset. It replaces the `NaN` values with a specified placeholder.\n",
    "It is implemented by the use of the `SimpleImputer()` method which takes the following arguments :\n",
    "\n",
    "`missing_values` : The missing_values placeholder which has to be imputed. By default is NaN\n",
    "\n",
    "`strategy` : The data which will replace the NaN values from the dataset. The strategy argument can take the values – ‘mean'(default), ‘median’, ‘most_frequent’ and ‘constant’.\n"
   ]
  },
  {
   "cell_type": "markdown",
   "metadata": {},
   "source": [
    "### Imputing Missing Values Using the Median Strategy\n",
    "\n",
    "***Instead of the mean, missing values in the selected columns were filled using the **median**. This approach is more robust to outliers, providing a better estimate for skewed data distributions.***\n"
   ]
  },
  {
   "cell_type": "code",
   "execution_count": null,
   "metadata": {},
   "outputs": [
    {
     "data": {
      "application/vnd.microsoft.datawrangler.viewer.v0+json": {
       "columns": [
        {
         "name": "index",
         "rawType": "int64",
         "type": "integer"
        },
        {
         "name": "Car",
         "rawType": "object",
         "type": "string"
        },
        {
         "name": "MPG",
         "rawType": "float64",
         "type": "float"
        },
        {
         "name": "Cylinders",
         "rawType": "object",
         "type": "string"
        },
        {
         "name": "Displacement",
         "rawType": "float64",
         "type": "float"
        },
        {
         "name": "Horsepower",
         "rawType": "float64",
         "type": "float"
        },
        {
         "name": "Weight",
         "rawType": "float64",
         "type": "float"
        },
        {
         "name": "Acceleration",
         "rawType": "object",
         "type": "string"
        },
        {
         "name": "Model",
         "rawType": "object",
         "type": "string"
        },
        {
         "name": "Origin",
         "rawType": "object",
         "type": "string"
        }
       ],
       "ref": "dd092a5d-cf43-428a-87d0-cd93a8e43257",
       "rows": [
        [
         "0",
         "AMC Rebel SST",
         "16.0",
         "8",
         "194.50987654320988",
         "150.0",
         "2978.293827160494",
         "12.0",
         "70",
         "US"
        ],
        [
         "1",
         "Ford Torino",
         "17.0",
         "8",
         "302.0",
         "140.0",
         "3449.0",
         "10.5",
         "70",
         "US"
        ],
        [
         "2",
         "Ford Galaxie 500",
         "0.0",
         "8",
         "429.0",
         "103.14356435643565",
         "4341.0",
         "10.0",
         "70",
         "US"
        ],
        [
         "3",
         "Chevrolet Impala",
         "14.0",
         "8",
         "454.0",
         "220.0",
         "4354.0",
         "9.0",
         "70",
         "US"
        ],
        [
         "4",
         "Plymouth Fury iii",
         "14.0",
         "8",
         "440.0",
         "215.0",
         "4312.0",
         "8.5",
         "70",
         "US"
        ]
       ],
       "shape": {
        "columns": 9,
        "rows": 5
       }
      },
      "text/html": [
       "<div>\n",
       "<style scoped>\n",
       "    .dataframe tbody tr th:only-of-type {\n",
       "        vertical-align: middle;\n",
       "    }\n",
       "\n",
       "    .dataframe tbody tr th {\n",
       "        vertical-align: top;\n",
       "    }\n",
       "\n",
       "    .dataframe thead th {\n",
       "        text-align: right;\n",
       "    }\n",
       "</style>\n",
       "<table border=\"1\" class=\"dataframe\">\n",
       "  <thead>\n",
       "    <tr style=\"text-align: right;\">\n",
       "      <th></th>\n",
       "      <th>Car</th>\n",
       "      <th>MPG</th>\n",
       "      <th>Cylinders</th>\n",
       "      <th>Displacement</th>\n",
       "      <th>Horsepower</th>\n",
       "      <th>Weight</th>\n",
       "      <th>Acceleration</th>\n",
       "      <th>Model</th>\n",
       "      <th>Origin</th>\n",
       "    </tr>\n",
       "  </thead>\n",
       "  <tbody>\n",
       "    <tr>\n",
       "      <th>0</th>\n",
       "      <td>AMC Rebel SST</td>\n",
       "      <td>16.0</td>\n",
       "      <td>8</td>\n",
       "      <td>194.509877</td>\n",
       "      <td>150.000000</td>\n",
       "      <td>2978.293827</td>\n",
       "      <td>12.0</td>\n",
       "      <td>70</td>\n",
       "      <td>US</td>\n",
       "    </tr>\n",
       "    <tr>\n",
       "      <th>1</th>\n",
       "      <td>Ford Torino</td>\n",
       "      <td>17.0</td>\n",
       "      <td>8</td>\n",
       "      <td>302.000000</td>\n",
       "      <td>140.000000</td>\n",
       "      <td>3449.000000</td>\n",
       "      <td>10.5</td>\n",
       "      <td>70</td>\n",
       "      <td>US</td>\n",
       "    </tr>\n",
       "    <tr>\n",
       "      <th>2</th>\n",
       "      <td>Ford Galaxie 500</td>\n",
       "      <td>0.0</td>\n",
       "      <td>8</td>\n",
       "      <td>429.000000</td>\n",
       "      <td>103.143564</td>\n",
       "      <td>4341.000000</td>\n",
       "      <td>10.0</td>\n",
       "      <td>70</td>\n",
       "      <td>US</td>\n",
       "    </tr>\n",
       "    <tr>\n",
       "      <th>3</th>\n",
       "      <td>Chevrolet Impala</td>\n",
       "      <td>14.0</td>\n",
       "      <td>8</td>\n",
       "      <td>454.000000</td>\n",
       "      <td>220.000000</td>\n",
       "      <td>4354.000000</td>\n",
       "      <td>9.0</td>\n",
       "      <td>70</td>\n",
       "      <td>US</td>\n",
       "    </tr>\n",
       "    <tr>\n",
       "      <th>4</th>\n",
       "      <td>Plymouth Fury iii</td>\n",
       "      <td>14.0</td>\n",
       "      <td>8</td>\n",
       "      <td>440.000000</td>\n",
       "      <td>215.000000</td>\n",
       "      <td>4312.000000</td>\n",
       "      <td>8.5</td>\n",
       "      <td>70</td>\n",
       "      <td>US</td>\n",
       "    </tr>\n",
       "  </tbody>\n",
       "</table>\n",
       "</div>"
      ],
      "text/plain": [
       "                 Car   MPG Cylinders  Displacement  Horsepower       Weight Acceleration Model Origin\n",
       "0      AMC Rebel SST  16.0         8    194.509877  150.000000  2978.293827         12.0    70     US\n",
       "1        Ford Torino  17.0         8    302.000000  140.000000  3449.000000         10.5    70     US\n",
       "2   Ford Galaxie 500   0.0         8    429.000000  103.143564  4341.000000         10.0    70     US\n",
       "3   Chevrolet Impala  14.0         8    454.000000  220.000000  4354.000000          9.0    70     US\n",
       "4  Plymouth Fury iii  14.0         8    440.000000  215.000000  4312.000000          8.5    70     US"
      ]
     },
     "execution_count": 136,
     "metadata": {},
     "output_type": "execute_result"
    }
   ],
   "source": [
    "# SimpleImputer is already imported and used above.\n",
    "# Here is a quick example of using SimpleImputer with different strategies:\n",
    "\n",
    "# Fill missing values in df_cars using the median strategy\n",
    "imputer_median = SimpleImputer(strategy='median')\n",
    "df_cars[cols_to_impute] = imputer_median.fit_transform(df_cars[cols_to_impute])\n",
    "\n",
    "# Display the DataFrame after median imputation\n",
    "df_cars.head()"
   ]
  },
  {
   "cell_type": "markdown",
   "metadata": {},
   "source": [
    "#### Visualizing Outliers Using Box Plot\n",
    "It captures the summary of the data effectively and efficiently with only a simple box and whiskers. Boxplot summarizes sample data using 25th, 50th, and 75th percentiles. One can just get insights(quartiles, median, and outliers) into the dataset by just looking at its boxplot."
   ]
  },
  {
   "cell_type": "markdown",
   "metadata": {},
   "source": [
    "### Box Plot Visualization\n",
    "\n",
    "***Box plots were used to visualize the distribution and detect outliers in the selected numeric columns. This helps identify extreme values and understand the spread of the data.***\n"
   ]
  },
  {
   "cell_type": "code",
   "execution_count": null,
   "metadata": {},
   "outputs": [
    {
     "data": {
      "image/png": "[encoded data removed]",
      "text/plain": [
       "<Figure size 1200x600 with 1 Axes>"
      ]
     },
     "metadata": {},
     "output_type": "display_data"
    }
   ],
   "source": [
    "import matplotlib.pyplot as plt\n",
    "\n",
    "# Visualize outliers in the selected columns using box plots\n",
    "plt.figure(figsize=(12, 6))\n",
    "df_cars[cols_to_impute].boxplot()\n",
    "plt.title('Box Plot of Numeric Car Features')\n",
    "plt.ylabel('Value')\n",
    "plt.show()"
   ]
  },
  {
   "cell_type": "markdown",
   "metadata": {},
   "source": [
    "#### Visualizing Outliers Using ScatterPlot.\n",
    "\n",
    "It is used when you have paired numerical data and when your dependent variable has multiple values for each reading independent variable, or when trying to determine the relationship between the two variables. In the process of utilizing the scatter plot, one can also use it for outlier detection."
   ]
  },
  {
   "cell_type": "markdown",
   "metadata": {},
   "source": [
    "### Scatter Plot: Horsepower vs. MPG\n",
    "\n",
    "***A scatter plot was created to visualize the relationship between **Horsepower** and **Miles Per Gallon (MPG)**. This helps to identify trends, correlations, or patterns between engine power and fuel efficiency.***"
   ]
  },
  {
   "cell_type": "code",
   "execution_count": null,
   "metadata": {},
   "outputs": [
    {
     "data": {
      "image/png": "[encoded data removed]",
      "text/plain": [
       "<Figure size 1000x600 with 1 Axes>"
      ]
     },
     "metadata": {},
     "output_type": "display_data"
    }
   ],
   "source": [
    "import matplotlib.pyplot as plt\n",
    "\n",
    "# Scatter plot to visualize the relationship between 'Horsepower' and 'MPG'\n",
    "plt.figure(figsize=(10, 6))\n",
    "plt.scatter(df_cars['Horsepower'], df_cars['MPG'], alpha=0.7)\n",
    "plt.title('Scatter Plot of Horsepower vs. MPG')\n",
    "plt.xlabel('Horsepower')\n",
    "plt.ylabel('MPG')\n",
    "plt.grid(True)\n",
    "plt.show()"
   ]
  },
  {
   "cell_type": "markdown",
   "metadata": {},
   "source": [
    "#### Z-Score:\n",
    "Z- Score is also called a standard score. This value/score helps to understand that how far is the data point from the mean. And after setting up a threshold value one can utilize z score values of data points to define the outliers.\n",
    "<br>\n",
    "Zscore = (data_point -mean) / std. deviation\n",
    "\n"
   ]
  },
  {
   "cell_type": "markdown",
   "metadata": {},
   "source": [
    "### Summary Statistics and Z-Scores for 'Horsepower'\n",
    "\n",
    "***Displayed key summary statistics (such as mean, median, and quartiles) for the **'Horsepower'** column to understand its distribution. Additionally, the first 10 Z-scores were shown to help identify how far individual values deviate from the mean.***"
   ]
  },
  {
   "cell_type": "code",
   "execution_count": null,
   "metadata": {},
   "outputs": [
    {
     "name": "stdout",
     "output_type": "stream",
     "text": [
      "Horsepower summary statistics:\n",
      "count    403.000000\n",
      "mean     102.960654\n",
      "std       40.188777\n",
      "min        0.000000\n",
      "25%       75.000000\n",
      "50%       92.000000\n",
      "75%      125.000000\n",
      "max      230.000000\n",
      "Name: Horsepower, dtype: float64\n",
      "\n",
      "First 10 Z-scores for 'Horsepower':\n",
      "[0.67006321 0.         1.16905959 1.16905959 0.9195614  0.\n",
      " 2.91554693 2.79079784 3.04029603 2.16705236]\n"
     ]
    }
   ],
   "source": [
    "# Display summary statistics for the 'Horsepower' column and its Z-scores\n",
    "print(\"Horsepower summary statistics:\")\n",
    "print(df_cars['Horsepower'].describe())\n",
    "print(\"\\nFirst 10 Z-scores for 'Horsepower':\")\n",
    "print(z_scores[:10])"
   ]
  },
  {
   "cell_type": "markdown",
   "metadata": {},
   "source": [
    "Now to define an outlier threshold value is chosen which is generally 3.0. As 99.7% of the data points lie between +/- 3 standard deviation (using Gaussian Distribution approach).\n",
    "\n",
    "Rows where Z value is greater than 2"
   ]
  },
  {
   "cell_type": "markdown",
   "metadata": {},
   "source": [
    "### Detecting Outliers in 'Horsepower'\n",
    "\n",
    "***Identified rows where the 'Horsepower' values have a Z-score greater than 2, flagging these as potential outliers. This helps isolate extreme values that may affect data analysis.***"
   ]
  },
  {
   "cell_type": "code",
   "execution_count": null,
   "metadata": {},
   "outputs": [
    {
     "data": {
      "application/vnd.microsoft.datawrangler.viewer.v0+json": {
       "columns": [
        {
         "name": "index",
         "rawType": "int64",
         "type": "integer"
        },
        {
         "name": "Car",
         "rawType": "object",
         "type": "string"
        },
        {
         "name": "MPG",
         "rawType": "float64",
         "type": "float"
        },
        {
         "name": "Cylinders",
         "rawType": "object",
         "type": "string"
        },
        {
         "name": "Displacement",
         "rawType": "float64",
         "type": "float"
        },
        {
         "name": "Horsepower",
         "rawType": "float64",
         "type": "float"
        },
        {
         "name": "Weight",
         "rawType": "float64",
         "type": "float"
        },
        {
         "name": "Acceleration",
         "rawType": "object",
         "type": "string"
        },
        {
         "name": "Model",
         "rawType": "object",
         "type": "string"
        },
        {
         "name": "Origin",
         "rawType": "object",
         "type": "string"
        }
       ],
       "ref": "8c366560-61c8-4aca-a1d9-7a2f3e544825",
       "rows": [
        [
         "3",
         "Chevrolet Impala",
         "14.0",
         "8",
         "454.0",
         "220.0",
         "4354.0",
         "9.0",
         "70",
         "US"
        ],
        [
         "4",
         "Plymouth Fury iii",
         "14.0",
         "8",
         "440.0",
         "215.0",
         "4312.0",
         "8.5",
         "70",
         "US"
        ],
        [
         "5",
         "Pontiac Catalina",
         "14.0",
         "8",
         "455.0",
         "225.0",
         "4425.0",
         "10.0",
         "70",
         "US"
        ],
        [
         "6",
         "AMC Ambassador DPL",
         "15.0",
         "8",
         "390.0",
         "190.0",
         "3850.0",
         "8.5",
         "70",
         "US"
        ],
        [
         "16",
         "Buick Estate Wagon (sw)",
         "14.0",
         "8",
         "455.0",
         "225.0",
         "3086.0",
         "10.0",
         "70",
         "US"
        ],
        [
         "28",
         "Ford F250",
         "10.0",
         "8",
         "360.0",
         "215.0",
         "4615.0",
         "14.0",
         "70",
         "US"
        ],
        [
         "29",
         "Chevy C20",
         "10.0",
         "8",
         "307.0",
         "200.0",
         "4376.0",
         "15.0",
         "70",
         "US"
        ],
        [
         "30",
         "Dodge D200",
         "11.0",
         "8",
         "318.0",
         "210.0",
         "4382.0",
         "13.5",
         "70",
         "US"
        ],
        [
         "31",
         "Hi 1200D",
         "9.0",
         "8",
         "304.0",
         "193.0",
         "4732.0",
         "18.5",
         "70",
         "US"
        ],
        [
         "35",
         "Ford Pinto",
         "25.0",
         "4",
         "98.0",
         "0.0",
         "2046.0",
         "19.0",
         "71",
         "US"
        ],
        [
         "71",
         "Mercury Marquis",
         "11.0",
         "8",
         "429.0",
         "208.0",
         "4633.0",
         "11.0",
         "72",
         "US"
        ],
        [
         "74",
         "Chrysler Newport Royal",
         "13.0",
         "8",
         "400.0",
         "190.0",
         "4422.0",
         "12.5",
         "72",
         "US"
        ],
        [
         "94",
         "Mercury Marquis Brougham",
         "12.0",
         "8",
         "429.0",
         "198.0",
         "4952.0",
         "11.5",
         "73",
         "US"
        ],
        [
         "98",
         "Chrysler New Yorker Brougham",
         "13.0",
         "8",
         "440.0",
         "215.0",
         "4735.0",
         "11.0",
         "73",
         "US"
        ],
        [
         "99",
         "Buick Electra 225 Custom",
         "12.0",
         "8",
         "455.0",
         "225.0",
         "4951.0",
         "11.0",
         "73",
         "US"
        ],
        [
         "120",
         "Pontiac Grand Prix",
         "16.0",
         "8",
         "400.0",
         "230.0",
         "4278.0",
         "9.50",
         "73",
         "US"
        ],
        [
         "130",
         "Ford Maverick",
         "21.0",
         "6",
         "200.0",
         "0.0",
         "2875.0",
         "17.0",
         "74",
         "US"
        ],
        [
         "235",
         "Chrysler Cordoba",
         "15.5",
         "8",
         "400.0",
         "190.0",
         "4325.0",
         "12.2",
         "77",
         "US"
        ],
        [
         "334",
         "Renault Lecar Deluxe",
         "40.9",
         "4",
         "85.0",
         "0.0",
         "1835.0",
         "17.3",
         "80",
         "Europe"
        ],
        [
         "340",
         "Ford Mustang Cobra",
         "23.6",
         "4",
         "140.0",
         "0.0",
         "2905.0",
         "14.3",
         "80",
         "US"
        ],
        [
         "358",
         "Renault 18i",
         "34.5",
         "4",
         "100.0",
         "0.0",
         "2320.0",
         "15.8",
         "81",
         "Europe"
        ],
        [
         "379",
         "AMC Concord DL",
         "23.0",
         "4",
         "151.0",
         "0.0",
         "3035.0",
         "20.5",
         "82",
         "US"
        ]
       ],
       "shape": {
        "columns": 9,
        "rows": 22
       }
      },
      "text/html": [
       "<div>\n",
       "<style scoped>\n",
       "    .dataframe tbody tr th:only-of-type {\n",
       "        vertical-align: middle;\n",
       "    }\n",
       "\n",
       "    .dataframe tbody tr th {\n",
       "        vertical-align: top;\n",
       "    }\n",
       "\n",
       "    .dataframe thead th {\n",
       "        text-align: right;\n",
       "    }\n",
       "</style>\n",
       "<table border=\"1\" class=\"dataframe\">\n",
       "  <thead>\n",
       "    <tr style=\"text-align: right;\">\n",
       "      <th></th>\n",
       "      <th>Car</th>\n",
       "      <th>MPG</th>\n",
       "      <th>Cylinders</th>\n",
       "      <th>Displacement</th>\n",
       "      <th>Horsepower</th>\n",
       "      <th>Weight</th>\n",
       "      <th>Acceleration</th>\n",
       "      <th>Model</th>\n",
       "      <th>Origin</th>\n",
       "    </tr>\n",
       "  </thead>\n",
       "  <tbody>\n",
       "    <tr>\n",
       "      <th>3</th>\n",
       "      <td>Chevrolet Impala</td>\n",
       "      <td>14.0</td>\n",
       "      <td>8</td>\n",
       "      <td>454.0</td>\n",
       "      <td>220.0</td>\n",
       "      <td>4354.0</td>\n",
       "      <td>9.0</td>\n",
       "      <td>70</td>\n",
       "      <td>US</td>\n",
       "    </tr>\n",
       "    <tr>\n",
       "      <th>4</th>\n",
       "      <td>Plymouth Fury iii</td>\n",
       "      <td>14.0</td>\n",
       "      <td>8</td>\n",
       "      <td>440.0</td>\n",
       "      <td>215.0</td>\n",
       "      <td>4312.0</td>\n",
       "      <td>8.5</td>\n",
       "      <td>70</td>\n",
       "      <td>US</td>\n",
       "    </tr>\n",
       "    <tr>\n",
       "      <th>5</th>\n",
       "      <td>Pontiac Catalina</td>\n",
       "      <td>14.0</td>\n",
       "      <td>8</td>\n",
       "      <td>455.0</td>\n",
       "      <td>225.0</td>\n",
       "      <td>4425.0</td>\n",
       "      <td>10.0</td>\n",
       "      <td>70</td>\n",
       "      <td>US</td>\n",
       "    </tr>\n",
       "    <tr>\n",
       "      <th>6</th>\n",
       "      <td>AMC Ambassador DPL</td>\n",
       "      <td>15.0</td>\n",
       "      <td>8</td>\n",
       "      <td>390.0</td>\n",
       "      <td>190.0</td>\n",
       "      <td>3850.0</td>\n",
       "      <td>8.5</td>\n",
       "      <td>70</td>\n",
       "      <td>US</td>\n",
       "    </tr>\n",
       "    <tr>\n",
       "      <th>16</th>\n",
       "      <td>Buick Estate Wagon (sw)</td>\n",
       "      <td>14.0</td>\n",
       "      <td>8</td>\n",
       "      <td>455.0</td>\n",
       "      <td>225.0</td>\n",
       "      <td>3086.0</td>\n",
       "      <td>10.0</td>\n",
       "      <td>70</td>\n",
       "      <td>US</td>\n",
       "    </tr>\n",
       "    <tr>\n",
       "      <th>28</th>\n",
       "      <td>Ford F250</td>\n",
       "      <td>10.0</td>\n",
       "      <td>8</td>\n",
       "      <td>360.0</td>\n",
       "      <td>215.0</td>\n",
       "      <td>4615.0</td>\n",
       "      <td>14.0</td>\n",
       "      <td>70</td>\n",
       "      <td>US</td>\n",
       "    </tr>\n",
       "    <tr>\n",
       "      <th>29</th>\n",
       "      <td>Chevy C20</td>\n",
       "      <td>10.0</td>\n",
       "      <td>8</td>\n",
       "      <td>307.0</td>\n",
       "      <td>200.0</td>\n",
       "      <td>4376.0</td>\n",
       "      <td>15.0</td>\n",
       "      <td>70</td>\n",
       "      <td>US</td>\n",
       "    </tr>\n",
       "    <tr>\n",
       "      <th>30</th>\n",
       "      <td>Dodge D200</td>\n",
       "      <td>11.0</td>\n",
       "      <td>8</td>\n",
       "      <td>318.0</td>\n",
       "      <td>210.0</td>\n",
       "      <td>4382.0</td>\n",
       "      <td>13.5</td>\n",
       "      <td>70</td>\n",
       "      <td>US</td>\n",
       "    </tr>\n",
       "    <tr>\n",
       "      <th>31</th>\n",
       "      <td>Hi 1200D</td>\n",
       "      <td>9.0</td>\n",
       "      <td>8</td>\n",
       "      <td>304.0</td>\n",
       "      <td>193.0</td>\n",
       "      <td>4732.0</td>\n",
       "      <td>18.5</td>\n",
       "      <td>70</td>\n",
       "      <td>US</td>\n",
       "    </tr>\n",
       "    <tr>\n",
       "      <th>35</th>\n",
       "      <td>Ford Pinto</td>\n",
       "      <td>25.0</td>\n",
       "      <td>4</td>\n",
       "      <td>98.0</td>\n",
       "      <td>0.0</td>\n",
       "      <td>2046.0</td>\n",
       "      <td>19.0</td>\n",
       "      <td>71</td>\n",
       "      <td>US</td>\n",
       "    </tr>\n",
       "    <tr>\n",
       "      <th>71</th>\n",
       "      <td>Mercury Marquis</td>\n",
       "      <td>11.0</td>\n",
       "      <td>8</td>\n",
       "      <td>429.0</td>\n",
       "      <td>208.0</td>\n",
       "      <td>4633.0</td>\n",
       "      <td>11.0</td>\n",
       "      <td>72</td>\n",
       "      <td>US</td>\n",
       "    </tr>\n",
       "    <tr>\n",
       "      <th>74</th>\n",
       "      <td>Chrysler Newport Royal</td>\n",
       "      <td>13.0</td>\n",
       "      <td>8</td>\n",
       "      <td>400.0</td>\n",
       "      <td>190.0</td>\n",
       "      <td>4422.0</td>\n",
       "      <td>12.5</td>\n",
       "      <td>72</td>\n",
       "      <td>US</td>\n",
       "    </tr>\n",
       "    <tr>\n",
       "      <th>94</th>\n",
       "      <td>Mercury Marquis Brougham</td>\n",
       "      <td>12.0</td>\n",
       "      <td>8</td>\n",
       "      <td>429.0</td>\n",
       "      <td>198.0</td>\n",
       "      <td>4952.0</td>\n",
       "      <td>11.5</td>\n",
       "      <td>73</td>\n",
       "      <td>US</td>\n",
       "    </tr>\n",
       "    <tr>\n",
       "      <th>98</th>\n",
       "      <td>Chrysler New Yorker Brougham</td>\n",
       "      <td>13.0</td>\n",
       "      <td>8</td>\n",
       "      <td>440.0</td>\n",
       "      <td>215.0</td>\n",
       "      <td>4735.0</td>\n",
       "      <td>11.0</td>\n",
       "      <td>73</td>\n",
       "      <td>US</td>\n",
       "    </tr>\n",
       "    <tr>\n",
       "      <th>99</th>\n",
       "      <td>Buick Electra 225 Custom</td>\n",
       "      <td>12.0</td>\n",
       "      <td>8</td>\n",
       "      <td>455.0</td>\n",
       "      <td>225.0</td>\n",
       "      <td>4951.0</td>\n",
       "      <td>11.0</td>\n",
       "      <td>73</td>\n",
       "      <td>US</td>\n",
       "    </tr>\n",
       "    <tr>\n",
       "      <th>120</th>\n",
       "      <td>Pontiac Grand Prix</td>\n",
       "      <td>16.0</td>\n",
       "      <td>8</td>\n",
       "      <td>400.0</td>\n",
       "      <td>230.0</td>\n",
       "      <td>4278.0</td>\n",
       "      <td>9.50</td>\n",
       "      <td>73</td>\n",
       "      <td>US</td>\n",
       "    </tr>\n",
       "    <tr>\n",
       "      <th>130</th>\n",
       "      <td>Ford Maverick</td>\n",
       "      <td>21.0</td>\n",
       "      <td>6</td>\n",
       "      <td>200.0</td>\n",
       "      <td>0.0</td>\n",
       "      <td>2875.0</td>\n",
       "      <td>17.0</td>\n",
       "      <td>74</td>\n",
       "      <td>US</td>\n",
       "    </tr>\n",
       "    <tr>\n",
       "      <th>235</th>\n",
       "      <td>Chrysler Cordoba</td>\n",
       "      <td>15.5</td>\n",
       "      <td>8</td>\n",
       "      <td>400.0</td>\n",
       "      <td>190.0</td>\n",
       "      <td>4325.0</td>\n",
       "      <td>12.2</td>\n",
       "      <td>77</td>\n",
       "      <td>US</td>\n",
       "    </tr>\n",
       "    <tr>\n",
       "      <th>334</th>\n",
       "      <td>Renault Lecar Deluxe</td>\n",
       "      <td>40.9</td>\n",
       "      <td>4</td>\n",
       "      <td>85.0</td>\n",
       "      <td>0.0</td>\n",
       "      <td>1835.0</td>\n",
       "      <td>17.3</td>\n",
       "      <td>80</td>\n",
       "      <td>Europe</td>\n",
       "    </tr>\n",
       "    <tr>\n",
       "      <th>340</th>\n",
       "      <td>Ford Mustang Cobra</td>\n",
       "      <td>23.6</td>\n",
       "      <td>4</td>\n",
       "      <td>140.0</td>\n",
       "      <td>0.0</td>\n",
       "      <td>2905.0</td>\n",
       "      <td>14.3</td>\n",
       "      <td>80</td>\n",
       "      <td>US</td>\n",
       "    </tr>\n",
       "    <tr>\n",
       "      <th>358</th>\n",
       "      <td>Renault 18i</td>\n",
       "      <td>34.5</td>\n",
       "      <td>4</td>\n",
       "      <td>100.0</td>\n",
       "      <td>0.0</td>\n",
       "      <td>2320.0</td>\n",
       "      <td>15.8</td>\n",
       "      <td>81</td>\n",
       "      <td>Europe</td>\n",
       "    </tr>\n",
       "    <tr>\n",
       "      <th>379</th>\n",
       "      <td>AMC Concord DL</td>\n",
       "      <td>23.0</td>\n",
       "      <td>4</td>\n",
       "      <td>151.0</td>\n",
       "      <td>0.0</td>\n",
       "      <td>3035.0</td>\n",
       "      <td>20.5</td>\n",
       "      <td>82</td>\n",
       "      <td>US</td>\n",
       "    </tr>\n",
       "  </tbody>\n",
       "</table>\n",
       "</div>"
      ],
      "text/plain": [
       "                              Car   MPG Cylinders  Displacement  Horsepower  Weight Acceleration Model  Origin\n",
       "3                Chevrolet Impala  14.0         8         454.0       220.0  4354.0          9.0    70      US\n",
       "4               Plymouth Fury iii  14.0         8         440.0       215.0  4312.0          8.5    70      US\n",
       "5                Pontiac Catalina  14.0         8         455.0       225.0  4425.0         10.0    70      US\n",
       "6              AMC Ambassador DPL  15.0         8         390.0       190.0  3850.0          8.5    70      US\n",
       "16        Buick Estate Wagon (sw)  14.0         8         455.0       225.0  3086.0         10.0    70      US\n",
       "28                      Ford F250  10.0         8         360.0       215.0  4615.0         14.0    70      US\n",
       "29                      Chevy C20  10.0         8         307.0       200.0  4376.0         15.0    70      US\n",
       "30                     Dodge D200  11.0         8         318.0       210.0  4382.0         13.5    70      US\n",
       "31                       Hi 1200D   9.0         8         304.0       193.0  4732.0         18.5    70      US\n",
       "35                     Ford Pinto  25.0         4          98.0         0.0  2046.0         19.0    71      US\n",
       "71                Mercury Marquis  11.0         8         429.0       208.0  4633.0         11.0    72      US\n",
       "74         Chrysler Newport Royal  13.0         8         400.0       190.0  4422.0         12.5    72      US\n",
       "94       Mercury Marquis Brougham  12.0         8         429.0       198.0  4952.0         11.5    73      US\n",
       "98   Chrysler New Yorker Brougham  13.0         8         440.0       215.0  4735.0         11.0    73      US\n",
       "99       Buick Electra 225 Custom  12.0         8         455.0       225.0  4951.0         11.0    73      US\n",
       "120            Pontiac Grand Prix  16.0         8         400.0       230.0  4278.0         9.50    73      US\n",
       "130                 Ford Maverick  21.0         6         200.0         0.0  2875.0         17.0    74      US\n",
       "235              Chrysler Cordoba  15.5         8         400.0       190.0  4325.0         12.2    77      US\n",
       "334          Renault Lecar Deluxe  40.9         4          85.0         0.0  1835.0         17.3    80  Europe\n",
       "340            Ford Mustang Cobra  23.6         4         140.0         0.0  2905.0         14.3    80      US\n",
       "358                   Renault 18i  34.5         4         100.0         0.0  2320.0         15.8    81  Europe\n",
       "379                AMC Concord DL  23.0         4         151.0         0.0  3035.0         20.5    82      US"
      ]
     },
     "execution_count": 140,
     "metadata": {},
     "output_type": "execute_result"
    }
   ],
   "source": [
    "outliers = df_cars[np.abs(stats.zscore(df_cars['Horsepower'])) > 2]\n",
    "outliers\n"
   ]
  },
  {
   "cell_type": "markdown",
   "metadata": {},
   "source": [
    "#### IQR (Inter-Quartile Range)\n",
    "Inter Quartile Range approach to finding the outliers is the most commonly used and most trusted approach used in the research field. <Br>\n",
    "IQR = Quartile3 - Quartile1"
   ]
  },
  {
   "cell_type": "markdown",
   "metadata": {},
   "source": [
    "### Calculating the Interquartile Range (IQR) for 'Horsepower'\n",
    "\n",
    "***The 25th percentile (Q1) and 75th percentile (Q3) of the 'Horsepower' column were computed to determine the Interquartile Range (IQR). The IQR measures the middle 50% spread of the data and is useful for identifying outliers.***"
   ]
  },
  {
   "cell_type": "code",
   "execution_count": null,
   "metadata": {},
   "outputs": [
    {
     "name": "stdout",
     "output_type": "stream",
     "text": [
      "Q1: 75.0, Q3: 125.0, IQR: 50.0\n"
     ]
    }
   ],
   "source": [
    "# Calculate IQR for the 'Horsepower' column\n",
    "Q1 = df_cars['Horsepower'].quantile(0.25)\n",
    "Q3 = df_cars['Horsepower'].quantile(0.75)\n",
    "IQR = Q3 - Q1\n",
    "\n",
    "print(f\"Q1: {Q1}, Q3: {Q3}, IQR: {IQR}\")"
   ]
  },
  {
   "cell_type": "markdown",
   "metadata": {},
   "source": [
    "To define the outlier base value is defined above and below dataset’s normal range namely Upper and Lower bounds, define the upper and the lower bound (1.5*IQR value is considered) :<br>\n",
    "upper = Q3 + 1.5 * IQR <br>\n",
    "lower = Q1 - 1.5 * IQR <br> "
   ]
  },
  {
   "cell_type": "markdown",
   "metadata": {},
   "source": [
    "### Determining Outlier Bounds Using IQR\n",
    "\n",
    "The upper and lower bounds for detecting outliers were calculated using the IQR method:\n",
    "- **Upper bound:** Q3 + 1.5 × IQR\n",
    "- **Lower bound:** Q1 - 1.5 × IQR\n",
    "\n",
    "Values outside these bounds are considered potential outliers.\n"
   ]
  },
  {
   "cell_type": "code",
   "execution_count": null,
   "metadata": {},
   "outputs": [
    {
     "name": "stdout",
     "output_type": "stream",
     "text": [
      "Upper bound: 200.0\n",
      "Lower bound: 0.0\n"
     ]
    }
   ],
   "source": [
    "# Define the upper and lower bounds for outlier detection using IQR\n",
    "upper = Q3 + 1.5 * IQR\n",
    "lower = Q1 - 1.5 * IQR\n",
    "\n",
    "print(f\"Upper bound: {upper}\")\n",
    "print(f\"Lower bound: {lower}\")"
   ]
  },
  {
   "cell_type": "markdown",
   "metadata": {},
   "source": [
    "- Removing the outliers:\n",
    "For removing the outlier, one must follow the same process of removing an entry from the dataset using its exact position in the dataset because in all the above methods of detecting the outliers end result is the list of all those data items that satisfy the outlier definition according to the method used."
   ]
  },
  {
   "cell_type": "markdown",
   "metadata": {},
   "source": [
    "### Removing Outliers Using the IQR Method\n",
    "\n",
    "***Rows with 'Horsepower' values outside the calculated IQR bounds were removed to create a cleaner dataset without extreme values. The resulting data is better suited for reliable analysis.***"
   ]
  },
  {
   "cell_type": "code",
   "execution_count": null,
   "metadata": {},
   "outputs": [
    {
     "data": {
      "application/vnd.microsoft.datawrangler.viewer.v0+json": {
       "columns": [
        {
         "name": "index",
         "rawType": "int64",
         "type": "integer"
        },
        {
         "name": "Car",
         "rawType": "object",
         "type": "string"
        },
        {
         "name": "MPG",
         "rawType": "float64",
         "type": "float"
        },
        {
         "name": "Cylinders",
         "rawType": "object",
         "type": "string"
        },
        {
         "name": "Displacement",
         "rawType": "float64",
         "type": "float"
        },
        {
         "name": "Horsepower",
         "rawType": "float64",
         "type": "float"
        },
        {
         "name": "Weight",
         "rawType": "float64",
         "type": "float"
        },
        {
         "name": "Acceleration",
         "rawType": "object",
         "type": "string"
        },
        {
         "name": "Model",
         "rawType": "object",
         "type": "string"
        },
        {
         "name": "Origin",
         "rawType": "object",
         "type": "string"
        }
       ],
       "ref": "e3ae5f1e-594a-4942-8d03-8b9aa530c0be",
       "rows": [
        [
         "0",
         "AMC Rebel SST",
         "16.0",
         "8",
         "194.50987654320988",
         "150.0",
         "2978.293827160494",
         "12.0",
         "70",
         "US"
        ],
        [
         "1",
         "Ford Torino",
         "17.0",
         "8",
         "302.0",
         "140.0",
         "3449.0",
         "10.5",
         "70",
         "US"
        ],
        [
         "2",
         "Ford Galaxie 500",
         "0.0",
         "8",
         "429.0",
         "103.14356435643565",
         "4341.0",
         "10.0",
         "70",
         "US"
        ],
        [
         "3",
         "AMC Ambassador DPL",
         "15.0",
         "8",
         "390.0",
         "190.0",
         "3850.0",
         "8.5",
         "70",
         "US"
        ],
        [
         "4",
         "Citroen DS-21 Pallas",
         "0.0",
         "4",
         "133.0",
         "115.0",
         "3090.0",
         "17.5",
         "70",
         "Europe"
        ]
       ],
       "shape": {
        "columns": 9,
        "rows": 5
       }
      },
      "text/html": [
       "<div>\n",
       "<style scoped>\n",
       "    .dataframe tbody tr th:only-of-type {\n",
       "        vertical-align: middle;\n",
       "    }\n",
       "\n",
       "    .dataframe tbody tr th {\n",
       "        vertical-align: top;\n",
       "    }\n",
       "\n",
       "    .dataframe thead th {\n",
       "        text-align: right;\n",
       "    }\n",
       "</style>\n",
       "<table border=\"1\" class=\"dataframe\">\n",
       "  <thead>\n",
       "    <tr style=\"text-align: right;\">\n",
       "      <th></th>\n",
       "      <th>Car</th>\n",
       "      <th>MPG</th>\n",
       "      <th>Cylinders</th>\n",
       "      <th>Displacement</th>\n",
       "      <th>Horsepower</th>\n",
       "      <th>Weight</th>\n",
       "      <th>Acceleration</th>\n",
       "      <th>Model</th>\n",
       "      <th>Origin</th>\n",
       "    </tr>\n",
       "  </thead>\n",
       "  <tbody>\n",
       "    <tr>\n",
       "      <th>0</th>\n",
       "      <td>AMC Rebel SST</td>\n",
       "      <td>16.0</td>\n",
       "      <td>8</td>\n",
       "      <td>194.509877</td>\n",
       "      <td>150.000000</td>\n",
       "      <td>2978.293827</td>\n",
       "      <td>12.0</td>\n",
       "      <td>70</td>\n",
       "      <td>US</td>\n",
       "    </tr>\n",
       "    <tr>\n",
       "      <th>1</th>\n",
       "      <td>Ford Torino</td>\n",
       "      <td>17.0</td>\n",
       "      <td>8</td>\n",
       "      <td>302.000000</td>\n",
       "      <td>140.000000</td>\n",
       "      <td>3449.000000</td>\n",
       "      <td>10.5</td>\n",
       "      <td>70</td>\n",
       "      <td>US</td>\n",
       "    </tr>\n",
       "    <tr>\n",
       "      <th>2</th>\n",
       "      <td>Ford Galaxie 500</td>\n",
       "      <td>0.0</td>\n",
       "      <td>8</td>\n",
       "      <td>429.000000</td>\n",
       "      <td>103.143564</td>\n",
       "      <td>4341.000000</td>\n",
       "      <td>10.0</td>\n",
       "      <td>70</td>\n",
       "      <td>US</td>\n",
       "    </tr>\n",
       "    <tr>\n",
       "      <th>3</th>\n",
       "      <td>AMC Ambassador DPL</td>\n",
       "      <td>15.0</td>\n",
       "      <td>8</td>\n",
       "      <td>390.000000</td>\n",
       "      <td>190.000000</td>\n",
       "      <td>3850.000000</td>\n",
       "      <td>8.5</td>\n",
       "      <td>70</td>\n",
       "      <td>US</td>\n",
       "    </tr>\n",
       "    <tr>\n",
       "      <th>4</th>\n",
       "      <td>Citroen DS-21 Pallas</td>\n",
       "      <td>0.0</td>\n",
       "      <td>4</td>\n",
       "      <td>133.000000</td>\n",
       "      <td>115.000000</td>\n",
       "      <td>3090.000000</td>\n",
       "      <td>17.5</td>\n",
       "      <td>70</td>\n",
       "      <td>Europe</td>\n",
       "    </tr>\n",
       "  </tbody>\n",
       "</table>\n",
       "</div>"
      ],
      "text/plain": [
       "                    Car   MPG Cylinders  Displacement  Horsepower       Weight Acceleration Model  Origin\n",
       "0         AMC Rebel SST  16.0         8    194.509877  150.000000  2978.293827         12.0    70      US\n",
       "1           Ford Torino  17.0         8    302.000000  140.000000  3449.000000         10.5    70      US\n",
       "2      Ford Galaxie 500   0.0         8    429.000000  103.143564  4341.000000         10.0    70      US\n",
       "3    AMC Ambassador DPL  15.0         8    390.000000  190.000000  3850.000000          8.5    70      US\n",
       "4  Citroen DS-21 Pallas   0.0         4    133.000000  115.000000  3090.000000         17.5    70  Europe"
      ]
     },
     "execution_count": 143,
     "metadata": {},
     "output_type": "execute_result"
    }
   ],
   "source": [
    "# Remove outliers from df_cars based on the IQR method for 'Horsepower'\n",
    "df_cars_no_outliers = df_cars[(df_cars['Horsepower'] >= lower) & (df_cars['Horsepower'] <= upper)].reset_index(drop=True)\n",
    "df_cars_no_outliers.head()"
   ]
  },
  {
   "cell_type": "markdown",
   "metadata": {},
   "source": [
    "## Creating requirements.txt"
   ]
  },
  {
   "cell_type": "code",
   "execution_count": null,
   "metadata": {},
   "outputs": [],
   "source": [
    "# Create a requirements.txt file with all installed packages and their versions\n",
    "!pip freeze > requirements.txt"
   ]
  }
 ],
 "metadata": {
  "kernelspec": {
   "display_name": "Python 3",
   "language": "python",
   "name": "python3"
  },
  "language_info": {
   "codemirror_mode": {
    "name": "ipython",
    "version": 3
   },
   "file_extension": ".py",
   "mimetype": "text/x-python",
   "name": "python",
   "nbconvert_exporter": "python",
   "pygments_lexer": "ipython3",
   "version": "3.12.6"
  },
  "orig_nbformat": 4
 },
 "nbformat": 4,
 "nbformat_minor": 2
}
